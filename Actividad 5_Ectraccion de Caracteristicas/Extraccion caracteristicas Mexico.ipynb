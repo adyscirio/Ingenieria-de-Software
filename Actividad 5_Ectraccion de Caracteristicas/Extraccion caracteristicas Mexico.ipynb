{
 "cells": [
  {
   "cell_type": "code",
   "execution_count": 191,
   "metadata": {},
   "outputs": [],
   "source": [
    "import pandas as pd\n",
    "import numpy as np\n",
    "import matplotlib.pyplot as plt\n",
    "import seaborn as sns\n",
    "from funpymodeling.exploratory import freq_tbl"
   ]
  },
  {
   "cell_type": "code",
   "execution_count": 192,
   "metadata": {},
   "outputs": [],
   "source": [
    "Mexico=pd.read_csv('Datos_limpios_Mexico_andi.csv')"
   ]
  },
  {
   "cell_type": "code",
   "execution_count": 193,
   "metadata": {},
   "outputs": [
    {
     "name": "stdout",
     "output_type": "stream",
     "text": [
      "<class 'pandas.core.frame.DataFrame'>\n",
      "RangeIndex: 26582 entries, 0 to 26581\n",
      "Data columns (total 50 columns):\n",
      " #   Column                          Non-Null Count  Dtype  \n",
      "---  ------                          --------------  -----  \n",
      " 0   Unnamed: 0                      26582 non-null  int64  \n",
      " 1   last_scraped                    26582 non-null  object \n",
      " 2   source                          26582 non-null  object \n",
      " 3   name                            26582 non-null  object \n",
      " 4   description                     26582 non-null  object \n",
      " 5   host_name                       26582 non-null  object \n",
      " 6   host_since                      26582 non-null  object \n",
      " 7   host_location                   26582 non-null  object \n",
      " 8   host_about                      26582 non-null  object \n",
      " 9   host_response_time              26582 non-null  object \n",
      " 10  host_response_rate              26582 non-null  object \n",
      " 11  host_acceptance_rate            26582 non-null  object \n",
      " 12  host_is_superhost               26582 non-null  object \n",
      " 13  host_verifications              26582 non-null  object \n",
      " 14  host_has_profile_pic            26582 non-null  object \n",
      " 15  host_identity_verified          26582 non-null  object \n",
      " 16  neighbourhood_cleansed          26582 non-null  object \n",
      " 17  property_type                   26582 non-null  object \n",
      " 18  room_type                       26582 non-null  object \n",
      " 19  amenities                       26582 non-null  object \n",
      " 20  has_availability                26582 non-null  object \n",
      " 21  first_review                    26582 non-null  object \n",
      " 22  last_review                     26582 non-null  object \n",
      " 23  instant_bookable                26582 non-null  object \n",
      " 24  host_listings_count             26582 non-null  float64\n",
      " 25  host_total_listings_count       26582 non-null  float64\n",
      " 26  accommodates                    26582 non-null  float64\n",
      " 27  bathrooms                       26582 non-null  float64\n",
      " 28  bedrooms                        26582 non-null  float64\n",
      " 29  beds                            26582 non-null  float64\n",
      " 30  price                           26582 non-null  float64\n",
      " 31  minimum_nights                  26582 non-null  float64\n",
      " 32  maximum_nights                  26582 non-null  int64  \n",
      " 33  minimum_nights_avg_ntm          26582 non-null  float64\n",
      " 34  maximum_nights_avg_ntm          26582 non-null  float64\n",
      " 35  availability_30                 26582 non-null  int64  \n",
      " 36  availability_60                 26582 non-null  int64  \n",
      " 37  availability_90                 26582 non-null  int64  \n",
      " 38  availability_365                26582 non-null  int64  \n",
      " 39  number_of_reviews_ltm           26582 non-null  float64\n",
      " 40  number_of_reviews_l30d          26582 non-null  float64\n",
      " 41  review_scores_rating            26582 non-null  float64\n",
      " 42  review_scores_accuracy          26582 non-null  float64\n",
      " 43  review_scores_cleanliness       26582 non-null  float64\n",
      " 44  review_scores_checkin           26582 non-null  float64\n",
      " 45  review_scores_communication     26582 non-null  float64\n",
      " 46  review_scores_location          26582 non-null  float64\n",
      " 47  review_scores_value             26582 non-null  float64\n",
      " 48  calculated_host_listings_count  26582 non-null  float64\n",
      " 49  reviews_per_month               26582 non-null  float64\n",
      "dtypes: float64(21), int64(6), object(23)\n",
      "memory usage: 10.1+ MB\n"
     ]
    }
   ],
   "source": [
    "Mexico.info()"
   ]
  },
  {
   "cell_type": "code",
   "execution_count": 194,
   "metadata": {},
   "outputs": [
    {
     "data": {
      "text/html": [
       "<div>\n",
       "<style scoped>\n",
       "    .dataframe tbody tr th:only-of-type {\n",
       "        vertical-align: middle;\n",
       "    }\n",
       "\n",
       "    .dataframe tbody tr th {\n",
       "        vertical-align: top;\n",
       "    }\n",
       "\n",
       "    .dataframe thead th {\n",
       "        text-align: right;\n",
       "    }\n",
       "</style>\n",
       "<table border=\"1\" class=\"dataframe\">\n",
       "  <thead>\n",
       "    <tr style=\"text-align: right;\">\n",
       "      <th></th>\n",
       "      <th>Unnamed: 0</th>\n",
       "      <th>last_scraped</th>\n",
       "      <th>source</th>\n",
       "      <th>name</th>\n",
       "      <th>description</th>\n",
       "      <th>host_name</th>\n",
       "      <th>host_since</th>\n",
       "      <th>host_location</th>\n",
       "      <th>host_about</th>\n",
       "      <th>host_response_time</th>\n",
       "      <th>...</th>\n",
       "      <th>number_of_reviews_l30d</th>\n",
       "      <th>review_scores_rating</th>\n",
       "      <th>review_scores_accuracy</th>\n",
       "      <th>review_scores_cleanliness</th>\n",
       "      <th>review_scores_checkin</th>\n",
       "      <th>review_scores_communication</th>\n",
       "      <th>review_scores_location</th>\n",
       "      <th>review_scores_value</th>\n",
       "      <th>calculated_host_listings_count</th>\n",
       "      <th>reviews_per_month</th>\n",
       "    </tr>\n",
       "  </thead>\n",
       "  <tbody>\n",
       "    <tr>\n",
       "      <th>0</th>\n",
       "      <td>0</td>\n",
       "      <td>25/09/24</td>\n",
       "      <td>city scrape</td>\n",
       "      <td>Villa Dante</td>\n",
       "      <td>Dentro de Villa un estudio de arte con futon, ...</td>\n",
       "      <td>Dici</td>\n",
       "      <td>28/06/10</td>\n",
       "      <td>Mexico City, Mexico</td>\n",
       "      <td>Master in visual arts, film photography &amp; Mark...</td>\n",
       "      <td>a few days or more</td>\n",
       "      <td>...</td>\n",
       "      <td>0.0</td>\n",
       "      <td>4.80</td>\n",
       "      <td>4.90</td>\n",
       "      <td>4.80</td>\n",
       "      <td>4.90</td>\n",
       "      <td>4.90</td>\n",
       "      <td>4.90</td>\n",
       "      <td>4.70</td>\n",
       "      <td>1.0</td>\n",
       "      <td>1.20</td>\n",
       "    </tr>\n",
       "    <tr>\n",
       "      <th>1</th>\n",
       "      <td>1</td>\n",
       "      <td>26/09/24</td>\n",
       "      <td>previous scrape</td>\n",
       "      <td>Condesa Haus</td>\n",
       "      <td>A new concept of hosting in mexico through a b...</td>\n",
       "      <td>Fernando</td>\n",
       "      <td>09/08/10</td>\n",
       "      <td>Mexico City, Mexico</td>\n",
       "      <td>Condesa Haus  offers independent  studios and ...</td>\n",
       "      <td>within an hour</td>\n",
       "      <td>...</td>\n",
       "      <td>0.0</td>\n",
       "      <td>4.58</td>\n",
       "      <td>4.56</td>\n",
       "      <td>4.70</td>\n",
       "      <td>4.87</td>\n",
       "      <td>4.78</td>\n",
       "      <td>4.98</td>\n",
       "      <td>4.48</td>\n",
       "      <td>8.0</td>\n",
       "      <td>0.41</td>\n",
       "    </tr>\n",
       "    <tr>\n",
       "      <th>2</th>\n",
       "      <td>2</td>\n",
       "      <td>26/09/24</td>\n",
       "      <td>city scrape</td>\n",
       "      <td>2 bedroom apt. deco bldg, Condesa</td>\n",
       "      <td>Comfortably furnished, sunny, 2 bedroom apt., ...</td>\n",
       "      <td>Nicholas</td>\n",
       "      <td>04/01/11</td>\n",
       "      <td>Mexico City, Mexico</td>\n",
       "      <td>I am a journalist writing about food, (book an...</td>\n",
       "      <td>within an hour</td>\n",
       "      <td>...</td>\n",
       "      <td>0.0</td>\n",
       "      <td>4.90</td>\n",
       "      <td>4.81</td>\n",
       "      <td>4.75</td>\n",
       "      <td>4.94</td>\n",
       "      <td>4.92</td>\n",
       "      <td>4.98</td>\n",
       "      <td>4.91</td>\n",
       "      <td>2.0</td>\n",
       "      <td>0.31</td>\n",
       "    </tr>\n",
       "    <tr>\n",
       "      <th>3</th>\n",
       "      <td>3</td>\n",
       "      <td>25/09/24</td>\n",
       "      <td>city scrape</td>\n",
       "      <td>Beautiful light Studio Coyoacan- full equipped !</td>\n",
       "      <td>COYOACAN designer studio quiet &amp; safe! well eq...</td>\n",
       "      <td>Trisha</td>\n",
       "      <td>24/08/10</td>\n",
       "      <td>Mexico City, Mexico</td>\n",
       "      <td>I am a mother, documentary film maker and phot...</td>\n",
       "      <td>within a few hours</td>\n",
       "      <td>...</td>\n",
       "      <td>2.0</td>\n",
       "      <td>4.91</td>\n",
       "      <td>4.90</td>\n",
       "      <td>4.96</td>\n",
       "      <td>4.96</td>\n",
       "      <td>4.98</td>\n",
       "      <td>4.96</td>\n",
       "      <td>4.92</td>\n",
       "      <td>3.0</td>\n",
       "      <td>0.83</td>\n",
       "    </tr>\n",
       "    <tr>\n",
       "      <th>4</th>\n",
       "      <td>4</td>\n",
       "      <td>25/09/24</td>\n",
       "      <td>city scrape</td>\n",
       "      <td>NEW  DESIGNER LOFT</td>\n",
       "      <td>Is the best ever place triple L &lt;br /&gt;Location...</td>\n",
       "      <td>Andrea</td>\n",
       "      <td>27/04/11</td>\n",
       "      <td>Mexico City, Mexico</td>\n",
       "      <td>I Leave in Mexico City... I am an Architect an...</td>\n",
       "      <td>within an hour</td>\n",
       "      <td>...</td>\n",
       "      <td>0.0</td>\n",
       "      <td>4.91</td>\n",
       "      <td>5.00</td>\n",
       "      <td>5.00</td>\n",
       "      <td>5.00</td>\n",
       "      <td>4.73</td>\n",
       "      <td>4.91</td>\n",
       "      <td>4.82</td>\n",
       "      <td>3.0</td>\n",
       "      <td>0.11</td>\n",
       "    </tr>\n",
       "  </tbody>\n",
       "</table>\n",
       "<p>5 rows × 50 columns</p>\n",
       "</div>"
      ],
      "text/plain": [
       "   Unnamed: 0 last_scraped           source  \\\n",
       "0           0     25/09/24      city scrape   \n",
       "1           1     26/09/24  previous scrape   \n",
       "2           2     26/09/24      city scrape   \n",
       "3           3     25/09/24      city scrape   \n",
       "4           4     25/09/24      city scrape   \n",
       "\n",
       "                                               name  \\\n",
       "0                                       Villa Dante   \n",
       "1                                      Condesa Haus   \n",
       "2                 2 bedroom apt. deco bldg, Condesa   \n",
       "3  Beautiful light Studio Coyoacan- full equipped !   \n",
       "4                                NEW  DESIGNER LOFT   \n",
       "\n",
       "                                         description host_name host_since  \\\n",
       "0  Dentro de Villa un estudio de arte con futon, ...      Dici   28/06/10   \n",
       "1  A new concept of hosting in mexico through a b...  Fernando   09/08/10   \n",
       "2  Comfortably furnished, sunny, 2 bedroom apt., ...  Nicholas   04/01/11   \n",
       "3  COYOACAN designer studio quiet & safe! well eq...    Trisha   24/08/10   \n",
       "4  Is the best ever place triple L <br />Location...    Andrea   27/04/11   \n",
       "\n",
       "         host_location                                         host_about  \\\n",
       "0  Mexico City, Mexico  Master in visual arts, film photography & Mark...   \n",
       "1  Mexico City, Mexico  Condesa Haus  offers independent  studios and ...   \n",
       "2  Mexico City, Mexico  I am a journalist writing about food, (book an...   \n",
       "3  Mexico City, Mexico  I am a mother, documentary film maker and phot...   \n",
       "4  Mexico City, Mexico  I Leave in Mexico City... I am an Architect an...   \n",
       "\n",
       "   host_response_time  ... number_of_reviews_l30d review_scores_rating  \\\n",
       "0  a few days or more  ...                    0.0                 4.80   \n",
       "1      within an hour  ...                    0.0                 4.58   \n",
       "2      within an hour  ...                    0.0                 4.90   \n",
       "3  within a few hours  ...                    2.0                 4.91   \n",
       "4      within an hour  ...                    0.0                 4.91   \n",
       "\n",
       "  review_scores_accuracy review_scores_cleanliness review_scores_checkin  \\\n",
       "0                   4.90                      4.80                  4.90   \n",
       "1                   4.56                      4.70                  4.87   \n",
       "2                   4.81                      4.75                  4.94   \n",
       "3                   4.90                      4.96                  4.96   \n",
       "4                   5.00                      5.00                  5.00   \n",
       "\n",
       "  review_scores_communication review_scores_location review_scores_value  \\\n",
       "0                        4.90                   4.90                4.70   \n",
       "1                        4.78                   4.98                4.48   \n",
       "2                        4.92                   4.98                4.91   \n",
       "3                        4.98                   4.96                4.92   \n",
       "4                        4.73                   4.91                4.82   \n",
       "\n",
       "  calculated_host_listings_count reviews_per_month  \n",
       "0                            1.0              1.20  \n",
       "1                            8.0              0.41  \n",
       "2                            2.0              0.31  \n",
       "3                            3.0              0.83  \n",
       "4                            3.0              0.11  \n",
       "\n",
       "[5 rows x 50 columns]"
      ]
     },
     "execution_count": 194,
     "metadata": {},
     "output_type": "execute_result"
    }
   ],
   "source": [
    "Mexico.head()"
   ]
  },
  {
   "cell_type": "code",
   "execution_count": 195,
   "metadata": {},
   "outputs": [
    {
     "data": {
      "text/html": [
       "<div>\n",
       "<style scoped>\n",
       "    .dataframe tbody tr th:only-of-type {\n",
       "        vertical-align: middle;\n",
       "    }\n",
       "\n",
       "    .dataframe tbody tr th {\n",
       "        vertical-align: top;\n",
       "    }\n",
       "\n",
       "    .dataframe thead th {\n",
       "        text-align: right;\n",
       "    }\n",
       "</style>\n",
       "<table border=\"1\" class=\"dataframe\">\n",
       "  <thead>\n",
       "    <tr style=\"text-align: right;\">\n",
       "      <th></th>\n",
       "      <th>last_scraped</th>\n",
       "      <th>source</th>\n",
       "      <th>name</th>\n",
       "      <th>description</th>\n",
       "      <th>host_name</th>\n",
       "      <th>host_since</th>\n",
       "      <th>host_location</th>\n",
       "      <th>host_about</th>\n",
       "      <th>host_response_time</th>\n",
       "      <th>host_response_rate</th>\n",
       "      <th>...</th>\n",
       "      <th>number_of_reviews_l30d</th>\n",
       "      <th>review_scores_rating</th>\n",
       "      <th>review_scores_accuracy</th>\n",
       "      <th>review_scores_cleanliness</th>\n",
       "      <th>review_scores_checkin</th>\n",
       "      <th>review_scores_communication</th>\n",
       "      <th>review_scores_location</th>\n",
       "      <th>review_scores_value</th>\n",
       "      <th>calculated_host_listings_count</th>\n",
       "      <th>reviews_per_month</th>\n",
       "    </tr>\n",
       "  </thead>\n",
       "  <tbody>\n",
       "    <tr>\n",
       "      <th>0</th>\n",
       "      <td>25/09/24</td>\n",
       "      <td>city scrape</td>\n",
       "      <td>Villa Dante</td>\n",
       "      <td>Dentro de Villa un estudio de arte con futon, ...</td>\n",
       "      <td>Dici</td>\n",
       "      <td>28/06/10</td>\n",
       "      <td>Mexico City, Mexico</td>\n",
       "      <td>Master in visual arts, film photography &amp; Mark...</td>\n",
       "      <td>a few days or more</td>\n",
       "      <td>0%</td>\n",
       "      <td>...</td>\n",
       "      <td>0.0</td>\n",
       "      <td>4.80</td>\n",
       "      <td>4.90</td>\n",
       "      <td>4.80</td>\n",
       "      <td>4.90</td>\n",
       "      <td>4.90</td>\n",
       "      <td>4.90</td>\n",
       "      <td>4.70</td>\n",
       "      <td>1.0</td>\n",
       "      <td>1.20</td>\n",
       "    </tr>\n",
       "    <tr>\n",
       "      <th>1</th>\n",
       "      <td>26/09/24</td>\n",
       "      <td>previous scrape</td>\n",
       "      <td>Condesa Haus</td>\n",
       "      <td>A new concept of hosting in mexico through a b...</td>\n",
       "      <td>Fernando</td>\n",
       "      <td>09/08/10</td>\n",
       "      <td>Mexico City, Mexico</td>\n",
       "      <td>Condesa Haus  offers independent  studios and ...</td>\n",
       "      <td>within an hour</td>\n",
       "      <td>100%</td>\n",
       "      <td>...</td>\n",
       "      <td>0.0</td>\n",
       "      <td>4.58</td>\n",
       "      <td>4.56</td>\n",
       "      <td>4.70</td>\n",
       "      <td>4.87</td>\n",
       "      <td>4.78</td>\n",
       "      <td>4.98</td>\n",
       "      <td>4.48</td>\n",
       "      <td>8.0</td>\n",
       "      <td>0.41</td>\n",
       "    </tr>\n",
       "    <tr>\n",
       "      <th>2</th>\n",
       "      <td>26/09/24</td>\n",
       "      <td>city scrape</td>\n",
       "      <td>2 bedroom apt. deco bldg, Condesa</td>\n",
       "      <td>Comfortably furnished, sunny, 2 bedroom apt., ...</td>\n",
       "      <td>Nicholas</td>\n",
       "      <td>04/01/11</td>\n",
       "      <td>Mexico City, Mexico</td>\n",
       "      <td>I am a journalist writing about food, (book an...</td>\n",
       "      <td>within an hour</td>\n",
       "      <td>71%</td>\n",
       "      <td>...</td>\n",
       "      <td>0.0</td>\n",
       "      <td>4.90</td>\n",
       "      <td>4.81</td>\n",
       "      <td>4.75</td>\n",
       "      <td>4.94</td>\n",
       "      <td>4.92</td>\n",
       "      <td>4.98</td>\n",
       "      <td>4.91</td>\n",
       "      <td>2.0</td>\n",
       "      <td>0.31</td>\n",
       "    </tr>\n",
       "    <tr>\n",
       "      <th>3</th>\n",
       "      <td>25/09/24</td>\n",
       "      <td>city scrape</td>\n",
       "      <td>Beautiful light Studio Coyoacan- full equipped !</td>\n",
       "      <td>COYOACAN designer studio quiet &amp; safe! well eq...</td>\n",
       "      <td>Trisha</td>\n",
       "      <td>24/08/10</td>\n",
       "      <td>Mexico City, Mexico</td>\n",
       "      <td>I am a mother, documentary film maker and phot...</td>\n",
       "      <td>within a few hours</td>\n",
       "      <td>100%</td>\n",
       "      <td>...</td>\n",
       "      <td>2.0</td>\n",
       "      <td>4.91</td>\n",
       "      <td>4.90</td>\n",
       "      <td>4.96</td>\n",
       "      <td>4.96</td>\n",
       "      <td>4.98</td>\n",
       "      <td>4.96</td>\n",
       "      <td>4.92</td>\n",
       "      <td>3.0</td>\n",
       "      <td>0.83</td>\n",
       "    </tr>\n",
       "    <tr>\n",
       "      <th>4</th>\n",
       "      <td>25/09/24</td>\n",
       "      <td>city scrape</td>\n",
       "      <td>NEW  DESIGNER LOFT</td>\n",
       "      <td>Is the best ever place triple L &lt;br /&gt;Location...</td>\n",
       "      <td>Andrea</td>\n",
       "      <td>27/04/11</td>\n",
       "      <td>Mexico City, Mexico</td>\n",
       "      <td>I Leave in Mexico City... I am an Architect an...</td>\n",
       "      <td>within an hour</td>\n",
       "      <td>100%</td>\n",
       "      <td>...</td>\n",
       "      <td>0.0</td>\n",
       "      <td>4.91</td>\n",
       "      <td>5.00</td>\n",
       "      <td>5.00</td>\n",
       "      <td>5.00</td>\n",
       "      <td>4.73</td>\n",
       "      <td>4.91</td>\n",
       "      <td>4.82</td>\n",
       "      <td>3.0</td>\n",
       "      <td>0.11</td>\n",
       "    </tr>\n",
       "    <tr>\n",
       "      <th>...</th>\n",
       "      <td>...</td>\n",
       "      <td>...</td>\n",
       "      <td>...</td>\n",
       "      <td>...</td>\n",
       "      <td>...</td>\n",
       "      <td>...</td>\n",
       "      <td>...</td>\n",
       "      <td>...</td>\n",
       "      <td>...</td>\n",
       "      <td>...</td>\n",
       "      <td>...</td>\n",
       "      <td>...</td>\n",
       "      <td>...</td>\n",
       "      <td>...</td>\n",
       "      <td>...</td>\n",
       "      <td>...</td>\n",
       "      <td>...</td>\n",
       "      <td>...</td>\n",
       "      <td>...</td>\n",
       "      <td>...</td>\n",
       "      <td>...</td>\n",
       "    </tr>\n",
       "    <tr>\n",
       "      <th>26577</th>\n",
       "      <td>25/09/24</td>\n",
       "      <td>city scrape</td>\n",
       "      <td>Charming 2-Bedroom Retreat in Lomas de Bezares</td>\n",
       "      <td>Experience Mexico City in this delightful retr...</td>\n",
       "      <td>HostPal</td>\n",
       "      <td>16/04/16</td>\n",
       "      <td>Mexico City, Mexico</td>\n",
       "      <td>I am a social person, who likes to provide the...</td>\n",
       "      <td>within an hour</td>\n",
       "      <td>100%</td>\n",
       "      <td>...</td>\n",
       "      <td>0.0</td>\n",
       "      <td>4.80</td>\n",
       "      <td>4.90</td>\n",
       "      <td>4.80</td>\n",
       "      <td>4.90</td>\n",
       "      <td>4.90</td>\n",
       "      <td>4.90</td>\n",
       "      <td>4.70</td>\n",
       "      <td>4.9</td>\n",
       "      <td>1.20</td>\n",
       "    </tr>\n",
       "    <tr>\n",
       "      <th>26578</th>\n",
       "      <td>25/09/24</td>\n",
       "      <td>city scrape</td>\n",
       "      <td>Suite King | District Polanco</td>\n",
       "      <td>This spacious room features a plush king-size ...</td>\n",
       "      <td>Luis Angel</td>\n",
       "      <td>13/08/24</td>\n",
       "      <td>Mexico City, Mexico</td>\n",
       "      <td>We offer beautiful, comfortable spaces that wo...</td>\n",
       "      <td>within an hour</td>\n",
       "      <td>100%</td>\n",
       "      <td>...</td>\n",
       "      <td>0.0</td>\n",
       "      <td>4.80</td>\n",
       "      <td>4.90</td>\n",
       "      <td>4.80</td>\n",
       "      <td>4.90</td>\n",
       "      <td>4.90</td>\n",
       "      <td>4.90</td>\n",
       "      <td>4.70</td>\n",
       "      <td>16.0</td>\n",
       "      <td>1.20</td>\n",
       "    </tr>\n",
       "    <tr>\n",
       "      <th>26579</th>\n",
       "      <td>25/09/24</td>\n",
       "      <td>city scrape</td>\n",
       "      <td>Suite King | District Polanco</td>\n",
       "      <td>Discover the essence of luxury in our king-siz...</td>\n",
       "      <td>Luis Angel</td>\n",
       "      <td>13/08/24</td>\n",
       "      <td>Mexico City, Mexico</td>\n",
       "      <td>We offer beautiful, comfortable spaces that wo...</td>\n",
       "      <td>within an hour</td>\n",
       "      <td>100%</td>\n",
       "      <td>...</td>\n",
       "      <td>0.0</td>\n",
       "      <td>4.80</td>\n",
       "      <td>4.90</td>\n",
       "      <td>4.80</td>\n",
       "      <td>4.90</td>\n",
       "      <td>4.90</td>\n",
       "      <td>4.90</td>\n",
       "      <td>4.70</td>\n",
       "      <td>16.0</td>\n",
       "      <td>1.20</td>\n",
       "    </tr>\n",
       "    <tr>\n",
       "      <th>26580</th>\n",
       "      <td>25/09/24</td>\n",
       "      <td>city scrape</td>\n",
       "      <td>Suite Queen | District Polanco</td>\n",
       "      <td>Welcome to your refuge in the heart of Polanco...</td>\n",
       "      <td>Luis Angel</td>\n",
       "      <td>13/08/24</td>\n",
       "      <td>Mexico City, Mexico</td>\n",
       "      <td>We offer beautiful, comfortable spaces that wo...</td>\n",
       "      <td>within an hour</td>\n",
       "      <td>100%</td>\n",
       "      <td>...</td>\n",
       "      <td>0.0</td>\n",
       "      <td>4.80</td>\n",
       "      <td>4.90</td>\n",
       "      <td>4.80</td>\n",
       "      <td>4.90</td>\n",
       "      <td>4.90</td>\n",
       "      <td>4.90</td>\n",
       "      <td>4.70</td>\n",
       "      <td>16.0</td>\n",
       "      <td>1.20</td>\n",
       "    </tr>\n",
       "    <tr>\n",
       "      <th>26581</th>\n",
       "      <td>25/09/24</td>\n",
       "      <td>city scrape</td>\n",
       "      <td>Pretty, well centered, amenities</td>\n",
       "      <td>Known as New Polanco, the Granada colony has p...</td>\n",
       "      <td>Salvador</td>\n",
       "      <td>22/05/13</td>\n",
       "      <td>Mexico City, Mexico</td>\n",
       "      <td>.</td>\n",
       "      <td>within an hour</td>\n",
       "      <td>100%</td>\n",
       "      <td>...</td>\n",
       "      <td>0.0</td>\n",
       "      <td>4.80</td>\n",
       "      <td>4.90</td>\n",
       "      <td>4.80</td>\n",
       "      <td>4.90</td>\n",
       "      <td>4.90</td>\n",
       "      <td>4.90</td>\n",
       "      <td>4.70</td>\n",
       "      <td>4.0</td>\n",
       "      <td>1.20</td>\n",
       "    </tr>\n",
       "  </tbody>\n",
       "</table>\n",
       "<p>26582 rows × 49 columns</p>\n",
       "</div>"
      ],
      "text/plain": [
       "      last_scraped           source  \\\n",
       "0         25/09/24      city scrape   \n",
       "1         26/09/24  previous scrape   \n",
       "2         26/09/24      city scrape   \n",
       "3         25/09/24      city scrape   \n",
       "4         25/09/24      city scrape   \n",
       "...            ...              ...   \n",
       "26577     25/09/24      city scrape   \n",
       "26578     25/09/24      city scrape   \n",
       "26579     25/09/24      city scrape   \n",
       "26580     25/09/24      city scrape   \n",
       "26581     25/09/24      city scrape   \n",
       "\n",
       "                                                   name  \\\n",
       "0                                           Villa Dante   \n",
       "1                                          Condesa Haus   \n",
       "2                     2 bedroom apt. deco bldg, Condesa   \n",
       "3      Beautiful light Studio Coyoacan- full equipped !   \n",
       "4                                    NEW  DESIGNER LOFT   \n",
       "...                                                 ...   \n",
       "26577    Charming 2-Bedroom Retreat in Lomas de Bezares   \n",
       "26578                     Suite King | District Polanco   \n",
       "26579                     Suite King | District Polanco   \n",
       "26580                    Suite Queen | District Polanco   \n",
       "26581                  Pretty, well centered, amenities   \n",
       "\n",
       "                                             description   host_name  \\\n",
       "0      Dentro de Villa un estudio de arte con futon, ...        Dici   \n",
       "1      A new concept of hosting in mexico through a b...    Fernando   \n",
       "2      Comfortably furnished, sunny, 2 bedroom apt., ...    Nicholas   \n",
       "3      COYOACAN designer studio quiet & safe! well eq...      Trisha   \n",
       "4      Is the best ever place triple L <br />Location...      Andrea   \n",
       "...                                                  ...         ...   \n",
       "26577  Experience Mexico City in this delightful retr...     HostPal   \n",
       "26578  This spacious room features a plush king-size ...  Luis Angel   \n",
       "26579  Discover the essence of luxury in our king-siz...  Luis Angel   \n",
       "26580  Welcome to your refuge in the heart of Polanco...  Luis Angel   \n",
       "26581  Known as New Polanco, the Granada colony has p...    Salvador   \n",
       "\n",
       "      host_since        host_location  \\\n",
       "0       28/06/10  Mexico City, Mexico   \n",
       "1       09/08/10  Mexico City, Mexico   \n",
       "2       04/01/11  Mexico City, Mexico   \n",
       "3       24/08/10  Mexico City, Mexico   \n",
       "4       27/04/11  Mexico City, Mexico   \n",
       "...          ...                  ...   \n",
       "26577   16/04/16  Mexico City, Mexico   \n",
       "26578   13/08/24  Mexico City, Mexico   \n",
       "26579   13/08/24  Mexico City, Mexico   \n",
       "26580   13/08/24  Mexico City, Mexico   \n",
       "26581   22/05/13  Mexico City, Mexico   \n",
       "\n",
       "                                              host_about  host_response_time  \\\n",
       "0      Master in visual arts, film photography & Mark...  a few days or more   \n",
       "1      Condesa Haus  offers independent  studios and ...      within an hour   \n",
       "2      I am a journalist writing about food, (book an...      within an hour   \n",
       "3      I am a mother, documentary film maker and phot...  within a few hours   \n",
       "4      I Leave in Mexico City... I am an Architect an...      within an hour   \n",
       "...                                                  ...                 ...   \n",
       "26577  I am a social person, who likes to provide the...      within an hour   \n",
       "26578  We offer beautiful, comfortable spaces that wo...      within an hour   \n",
       "26579  We offer beautiful, comfortable spaces that wo...      within an hour   \n",
       "26580  We offer beautiful, comfortable spaces that wo...      within an hour   \n",
       "26581                                                  .      within an hour   \n",
       "\n",
       "      host_response_rate  ... number_of_reviews_l30d review_scores_rating  \\\n",
       "0                     0%  ...                    0.0                 4.80   \n",
       "1                   100%  ...                    0.0                 4.58   \n",
       "2                    71%  ...                    0.0                 4.90   \n",
       "3                   100%  ...                    2.0                 4.91   \n",
       "4                   100%  ...                    0.0                 4.91   \n",
       "...                  ...  ...                    ...                  ...   \n",
       "26577               100%  ...                    0.0                 4.80   \n",
       "26578               100%  ...                    0.0                 4.80   \n",
       "26579               100%  ...                    0.0                 4.80   \n",
       "26580               100%  ...                    0.0                 4.80   \n",
       "26581               100%  ...                    0.0                 4.80   \n",
       "\n",
       "      review_scores_accuracy review_scores_cleanliness review_scores_checkin  \\\n",
       "0                       4.90                      4.80                  4.90   \n",
       "1                       4.56                      4.70                  4.87   \n",
       "2                       4.81                      4.75                  4.94   \n",
       "3                       4.90                      4.96                  4.96   \n",
       "4                       5.00                      5.00                  5.00   \n",
       "...                      ...                       ...                   ...   \n",
       "26577                   4.90                      4.80                  4.90   \n",
       "26578                   4.90                      4.80                  4.90   \n",
       "26579                   4.90                      4.80                  4.90   \n",
       "26580                   4.90                      4.80                  4.90   \n",
       "26581                   4.90                      4.80                  4.90   \n",
       "\n",
       "      review_scores_communication review_scores_location review_scores_value  \\\n",
       "0                            4.90                   4.90                4.70   \n",
       "1                            4.78                   4.98                4.48   \n",
       "2                            4.92                   4.98                4.91   \n",
       "3                            4.98                   4.96                4.92   \n",
       "4                            4.73                   4.91                4.82   \n",
       "...                           ...                    ...                 ...   \n",
       "26577                        4.90                   4.90                4.70   \n",
       "26578                        4.90                   4.90                4.70   \n",
       "26579                        4.90                   4.90                4.70   \n",
       "26580                        4.90                   4.90                4.70   \n",
       "26581                        4.90                   4.90                4.70   \n",
       "\n",
       "      calculated_host_listings_count reviews_per_month  \n",
       "0                                1.0              1.20  \n",
       "1                                8.0              0.41  \n",
       "2                                2.0              0.31  \n",
       "3                                3.0              0.83  \n",
       "4                                3.0              0.11  \n",
       "...                              ...               ...  \n",
       "26577                            4.9              1.20  \n",
       "26578                           16.0              1.20  \n",
       "26579                           16.0              1.20  \n",
       "26580                           16.0              1.20  \n",
       "26581                            4.0              1.20  \n",
       "\n",
       "[26582 rows x 49 columns]"
      ]
     },
     "execution_count": 195,
     "metadata": {},
     "output_type": "execute_result"
    }
   ],
   "source": [
    "Mexico=Mexico.drop(columns='Unnamed: 0')\n",
    "Mexico"
   ]
  },
  {
   "cell_type": "code",
   "execution_count": 196,
   "metadata": {},
   "outputs": [
    {
     "data": {
      "text/html": [
       "<div>\n",
       "<style scoped>\n",
       "    .dataframe tbody tr th:only-of-type {\n",
       "        vertical-align: middle;\n",
       "    }\n",
       "\n",
       "    .dataframe tbody tr th {\n",
       "        vertical-align: top;\n",
       "    }\n",
       "\n",
       "    .dataframe thead th {\n",
       "        text-align: right;\n",
       "    }\n",
       "</style>\n",
       "<table border=\"1\" class=\"dataframe\">\n",
       "  <thead>\n",
       "    <tr style=\"text-align: right;\">\n",
       "      <th></th>\n",
       "      <th>last_scraped</th>\n",
       "      <th>source</th>\n",
       "      <th>name</th>\n",
       "      <th>description</th>\n",
       "      <th>host_name</th>\n",
       "      <th>host_since</th>\n",
       "      <th>host_location</th>\n",
       "      <th>host_about</th>\n",
       "      <th>host_response_time</th>\n",
       "      <th>host_response_rate</th>\n",
       "      <th>...</th>\n",
       "      <th>number_of_reviews_l30d</th>\n",
       "      <th>review_scores_rating</th>\n",
       "      <th>review_scores_accuracy</th>\n",
       "      <th>review_scores_cleanliness</th>\n",
       "      <th>review_scores_checkin</th>\n",
       "      <th>review_scores_communication</th>\n",
       "      <th>review_scores_location</th>\n",
       "      <th>review_scores_value</th>\n",
       "      <th>calculated_host_listings_count</th>\n",
       "      <th>reviews_per_month</th>\n",
       "    </tr>\n",
       "  </thead>\n",
       "  <tbody>\n",
       "    <tr>\n",
       "      <th>0</th>\n",
       "      <td>25/09/24</td>\n",
       "      <td>city scrape</td>\n",
       "      <td>Villa Dante</td>\n",
       "      <td>Dentro de Villa un estudio de arte con futon, ...</td>\n",
       "      <td>Dici</td>\n",
       "      <td>28/06/10</td>\n",
       "      <td>Mexico City, Mexico</td>\n",
       "      <td>Master in visual arts, film photography &amp; Mark...</td>\n",
       "      <td>a few days or more</td>\n",
       "      <td>0%</td>\n",
       "      <td>...</td>\n",
       "      <td>0.0</td>\n",
       "      <td>4.80</td>\n",
       "      <td>4.90</td>\n",
       "      <td>4.80</td>\n",
       "      <td>4.90</td>\n",
       "      <td>4.90</td>\n",
       "      <td>4.90</td>\n",
       "      <td>4.70</td>\n",
       "      <td>1.0</td>\n",
       "      <td>1.20</td>\n",
       "    </tr>\n",
       "    <tr>\n",
       "      <th>1</th>\n",
       "      <td>26/09/24</td>\n",
       "      <td>previous scrape</td>\n",
       "      <td>Condesa Haus</td>\n",
       "      <td>A new concept of hosting in mexico through a b...</td>\n",
       "      <td>Fernando</td>\n",
       "      <td>09/08/10</td>\n",
       "      <td>Mexico City, Mexico</td>\n",
       "      <td>Condesa Haus  offers independent  studios and ...</td>\n",
       "      <td>within an hour</td>\n",
       "      <td>100%</td>\n",
       "      <td>...</td>\n",
       "      <td>0.0</td>\n",
       "      <td>4.58</td>\n",
       "      <td>4.56</td>\n",
       "      <td>4.70</td>\n",
       "      <td>4.87</td>\n",
       "      <td>4.78</td>\n",
       "      <td>4.98</td>\n",
       "      <td>4.48</td>\n",
       "      <td>8.0</td>\n",
       "      <td>0.41</td>\n",
       "    </tr>\n",
       "    <tr>\n",
       "      <th>2</th>\n",
       "      <td>26/09/24</td>\n",
       "      <td>city scrape</td>\n",
       "      <td>2 bedroom apt. deco bldg, Condesa</td>\n",
       "      <td>Comfortably furnished, sunny, 2 bedroom apt., ...</td>\n",
       "      <td>Nicholas</td>\n",
       "      <td>04/01/11</td>\n",
       "      <td>Mexico City, Mexico</td>\n",
       "      <td>I am a journalist writing about food, (book an...</td>\n",
       "      <td>within an hour</td>\n",
       "      <td>71%</td>\n",
       "      <td>...</td>\n",
       "      <td>0.0</td>\n",
       "      <td>4.90</td>\n",
       "      <td>4.81</td>\n",
       "      <td>4.75</td>\n",
       "      <td>4.94</td>\n",
       "      <td>4.92</td>\n",
       "      <td>4.98</td>\n",
       "      <td>4.91</td>\n",
       "      <td>2.0</td>\n",
       "      <td>0.31</td>\n",
       "    </tr>\n",
       "    <tr>\n",
       "      <th>3</th>\n",
       "      <td>25/09/24</td>\n",
       "      <td>city scrape</td>\n",
       "      <td>Beautiful light Studio Coyoacan- full equipped !</td>\n",
       "      <td>COYOACAN designer studio quiet &amp; safe! well eq...</td>\n",
       "      <td>Trisha</td>\n",
       "      <td>24/08/10</td>\n",
       "      <td>Mexico City, Mexico</td>\n",
       "      <td>I am a mother, documentary film maker and phot...</td>\n",
       "      <td>within a few hours</td>\n",
       "      <td>100%</td>\n",
       "      <td>...</td>\n",
       "      <td>2.0</td>\n",
       "      <td>4.91</td>\n",
       "      <td>4.90</td>\n",
       "      <td>4.96</td>\n",
       "      <td>4.96</td>\n",
       "      <td>4.98</td>\n",
       "      <td>4.96</td>\n",
       "      <td>4.92</td>\n",
       "      <td>3.0</td>\n",
       "      <td>0.83</td>\n",
       "    </tr>\n",
       "    <tr>\n",
       "      <th>4</th>\n",
       "      <td>25/09/24</td>\n",
       "      <td>city scrape</td>\n",
       "      <td>NEW  DESIGNER LOFT</td>\n",
       "      <td>Is the best ever place triple L &lt;br /&gt;Location...</td>\n",
       "      <td>Andrea</td>\n",
       "      <td>27/04/11</td>\n",
       "      <td>Mexico City, Mexico</td>\n",
       "      <td>I Leave in Mexico City... I am an Architect an...</td>\n",
       "      <td>within an hour</td>\n",
       "      <td>100%</td>\n",
       "      <td>...</td>\n",
       "      <td>0.0</td>\n",
       "      <td>4.91</td>\n",
       "      <td>5.00</td>\n",
       "      <td>5.00</td>\n",
       "      <td>5.00</td>\n",
       "      <td>4.73</td>\n",
       "      <td>4.91</td>\n",
       "      <td>4.82</td>\n",
       "      <td>3.0</td>\n",
       "      <td>0.11</td>\n",
       "    </tr>\n",
       "  </tbody>\n",
       "</table>\n",
       "<p>5 rows × 49 columns</p>\n",
       "</div>"
      ],
      "text/plain": [
       "  last_scraped           source  \\\n",
       "0     25/09/24      city scrape   \n",
       "1     26/09/24  previous scrape   \n",
       "2     26/09/24      city scrape   \n",
       "3     25/09/24      city scrape   \n",
       "4     25/09/24      city scrape   \n",
       "\n",
       "                                               name  \\\n",
       "0                                       Villa Dante   \n",
       "1                                      Condesa Haus   \n",
       "2                 2 bedroom apt. deco bldg, Condesa   \n",
       "3  Beautiful light Studio Coyoacan- full equipped !   \n",
       "4                                NEW  DESIGNER LOFT   \n",
       "\n",
       "                                         description host_name host_since  \\\n",
       "0  Dentro de Villa un estudio de arte con futon, ...      Dici   28/06/10   \n",
       "1  A new concept of hosting in mexico through a b...  Fernando   09/08/10   \n",
       "2  Comfortably furnished, sunny, 2 bedroom apt., ...  Nicholas   04/01/11   \n",
       "3  COYOACAN designer studio quiet & safe! well eq...    Trisha   24/08/10   \n",
       "4  Is the best ever place triple L <br />Location...    Andrea   27/04/11   \n",
       "\n",
       "         host_location                                         host_about  \\\n",
       "0  Mexico City, Mexico  Master in visual arts, film photography & Mark...   \n",
       "1  Mexico City, Mexico  Condesa Haus  offers independent  studios and ...   \n",
       "2  Mexico City, Mexico  I am a journalist writing about food, (book an...   \n",
       "3  Mexico City, Mexico  I am a mother, documentary film maker and phot...   \n",
       "4  Mexico City, Mexico  I Leave in Mexico City... I am an Architect an...   \n",
       "\n",
       "   host_response_time host_response_rate  ... number_of_reviews_l30d  \\\n",
       "0  a few days or more                 0%  ...                    0.0   \n",
       "1      within an hour               100%  ...                    0.0   \n",
       "2      within an hour                71%  ...                    0.0   \n",
       "3  within a few hours               100%  ...                    2.0   \n",
       "4      within an hour               100%  ...                    0.0   \n",
       "\n",
       "  review_scores_rating review_scores_accuracy review_scores_cleanliness  \\\n",
       "0                 4.80                   4.90                      4.80   \n",
       "1                 4.58                   4.56                      4.70   \n",
       "2                 4.90                   4.81                      4.75   \n",
       "3                 4.91                   4.90                      4.96   \n",
       "4                 4.91                   5.00                      5.00   \n",
       "\n",
       "  review_scores_checkin review_scores_communication review_scores_location  \\\n",
       "0                  4.90                        4.90                   4.90   \n",
       "1                  4.87                        4.78                   4.98   \n",
       "2                  4.94                        4.92                   4.98   \n",
       "3                  4.96                        4.98                   4.96   \n",
       "4                  5.00                        4.73                   4.91   \n",
       "\n",
       "  review_scores_value calculated_host_listings_count reviews_per_month  \n",
       "0                4.70                            1.0              1.20  \n",
       "1                4.48                            8.0              0.41  \n",
       "2                4.91                            2.0              0.31  \n",
       "3                4.92                            3.0              0.83  \n",
       "4                4.82                            3.0              0.11  \n",
       "\n",
       "[5 rows x 49 columns]"
      ]
     },
     "execution_count": 196,
     "metadata": {},
     "output_type": "execute_result"
    }
   ],
   "source": [
    "Mexico.head()"
   ]
  },
  {
   "cell_type": "code",
   "execution_count": 197,
   "metadata": {},
   "outputs": [
    {
     "name": "stdout",
     "output_type": "stream",
     "text": [
      "  last_scraped  frequency  percentage  cumulative_perc\n",
      "0     25/09/24      15745    0.592318         0.592318\n",
      "1     26/09/24      10837    0.407682         1.000000\n",
      "\n",
      "----------------------------------------------------------------\n",
      "\n",
      "            source  frequency  percentage  cumulative_perc\n",
      "0      city scrape      23671     0.89049          0.89049\n",
      "1  previous scrape       2911     0.10951          1.00000\n",
      "\n",
      "----------------------------------------------------------------\n",
      "\n",
      "                                                    name  frequency  \\\n",
      "0         Blueground | Roma Sur 1 recamara, AC & rooftop         57   \n",
      "1                          Blueground | Polanco, parking         49   \n",
      "2                       Perfecto Loft en gran ubicaci√≥n         48   \n",
      "3      Blueground | Amueblado, Security & Business Ce...         36   \n",
      "4                               Casa Miravalle | Condesa         21   \n",
      "...                                                  ...        ...   \n",
      "25163  Private suite in Condesa Great internet & loca...          1   \n",
      "25164        Artsy habitaci√≥n frente al Parque M√©xico!          1   \n",
      "25165  LOFT 14 (Parque Delta, Hosp. siglo XXI, Foro Sol)          1   \n",
      "25166           Apartamento Embajada Las Garzas Cozy&Zen          1   \n",
      "25167                   Pretty, well centered, amenities          1   \n",
      "\n",
      "       percentage  cumulative_perc  \n",
      "0        0.002144         0.002144  \n",
      "1        0.001843         0.003988  \n",
      "2        0.001806         0.005793  \n",
      "3        0.001354         0.007148  \n",
      "4        0.000790         0.007938  \n",
      "...           ...              ...  \n",
      "25163    0.000038         0.999850  \n",
      "25164    0.000038         0.999887  \n",
      "25165    0.000038         0.999925  \n",
      "25166    0.000038         0.999962  \n",
      "25167    0.000038         1.000000  \n",
      "\n",
      "[25168 rows x 4 columns]\n",
      "\n",
      "----------------------------------------------------------------\n",
      "\n",
      "                                             description  frequency  \\\n",
      "0      Your best option to stay if you want to visit ...        933   \n",
      "1      Enjoy the simplicity of this quiet, central home.        106   \n",
      "2      This place has a strategic location - it will ...         65   \n",
      "3      If you are looking for an ideal accommodation ...         59   \n",
      "4      The loft is equipped to provide the utmost com...         53   \n",
      "...                                                  ...        ...   \n",
      "21616  Enjoy your stay in this carefully designed, su...          1   \n",
      "21617  Our space is located in a quiet, safe area and...          1   \n",
      "21618  Style and confortable furniture all over the p...          1   \n",
      "21619  Beautiful Penthouse in CDMX, fully equipped.<b...          1   \n",
      "21620  Known as New Polanco, the Granada colony has p...          1   \n",
      "\n",
      "       percentage  cumulative_perc  \n",
      "0        0.035099         0.035099  \n",
      "1        0.003988         0.039087  \n",
      "2        0.002445         0.041532  \n",
      "3        0.002220         0.043751  \n",
      "4        0.001994         0.045745  \n",
      "...           ...              ...  \n",
      "21616    0.000038         0.999850  \n",
      "21617    0.000038         0.999887  \n",
      "21618    0.000038         0.999925  \n",
      "21619    0.000038         0.999962  \n",
      "21620    0.000038         1.000000  \n",
      "\n",
      "[21621 rows x 4 columns]\n",
      "\n",
      "----------------------------------------------------------------\n",
      "\n",
      "       host_name  frequency  percentage  cumulative_perc\n",
      "0      Alejandra        341    0.012828         0.012828\n",
      "1      Alejandro        293    0.011022         0.023851\n",
      "2           Luis        292    0.010985         0.034836\n",
      "3        Virtual        287    0.010797         0.045632\n",
      "4     Blueground        258    0.009706         0.055338\n",
      "...          ...        ...         ...              ...\n",
      "4093   Ana Noemy          1    0.000038         0.999850\n",
      "4094       Eli√©          1    0.000038         0.999887\n",
      "4095         Cle          1    0.000038         0.999925\n",
      "4096         Aby          1    0.000038         0.999962\n",
      "4097       Yenny          1    0.000038         1.000000\n",
      "\n",
      "[4098 rows x 4 columns]\n",
      "\n",
      "----------------------------------------------------------------\n",
      "\n",
      "     host_since  frequency  percentage  cumulative_perc\n",
      "0      30/01/23        267    0.010044         0.010044\n",
      "1      22/12/13        216    0.008126         0.018170\n",
      "2      02/02/20        177    0.006659         0.024829\n",
      "3      28/09/23        174    0.006546         0.031375\n",
      "4      27/04/16        156    0.005869         0.037243\n",
      "...         ...        ...         ...              ...\n",
      "4045   24/05/15          1    0.000038         0.999850\n",
      "4046   13/01/19          1    0.000038         0.999887\n",
      "4047   31/03/22          1    0.000038         0.999925\n",
      "4048   05/06/14          1    0.000038         0.999962\n",
      "4049   25/08/11          1    0.000038         1.000000\n",
      "\n",
      "[4050 rows x 4 columns]\n",
      "\n",
      "----------------------------------------------------------------\n",
      "\n",
      "                 host_location  frequency  percentage  cumulative_perc\n",
      "0          Mexico City, Mexico      22639    0.851667         0.851667\n",
      "1                       Mexico        949    0.035701         0.887367\n",
      "2    Ciudad de M√©xico, Mexico        383    0.014408         0.901776\n",
      "3     Federal District, Mexico        213    0.008013         0.909789\n",
      "4                 New York, NY        203    0.007637         0.917425\n",
      "..                         ...        ...         ...              ...\n",
      "395         Merion Station, PA          1    0.000038         0.999850\n",
      "396             Colima, Mexico          1    0.000038         0.999887\n",
      "397                  Singapore          1    0.000038         0.999925\n",
      "398           Mahahual, Mexico          1    0.000038         0.999962\n",
      "399        Copenhagen, Denmark          1    0.000038         1.000000\n",
      "\n",
      "[400 rows x 4 columns]\n",
      "\n",
      "----------------------------------------------------------------\n",
      "\n",
      "                                             host_about  frequency  \\\n",
      "0     I am a social person, who likes to provide the...      10965   \n",
      "1     Somos Blueground, una empresa internacional de...        258   \n",
      "2     Soy una anfitriona profesional, y estoy compro...        177   \n",
      "3     Wynwood House is a next-gen hospitality brand ...        148   \n",
      "4     We transform traditional apartments into Kukun...        145   \n",
      "...                                                 ...        ...   \n",
      "6085  I‚Äôm a Mexican woman . I love different kinds...          1   \n",
      "6086  Soy una persona sociable, me gusta viajar, con...          1   \n",
      "6087  I grew up in California and then moved to Buen...          1   \n",
      "6088  Tranquilo, Soltero Dise√±ador industrial Freel...          1   \n",
      "6089  Mi nombre es Alejandro y soy abogado de profes...          1   \n",
      "\n",
      "      percentage  cumulative_perc  \n",
      "0       0.412497         0.412497  \n",
      "1       0.009706         0.422203  \n",
      "2       0.006659         0.428862  \n",
      "3       0.005568         0.434429  \n",
      "4       0.005455         0.439884  \n",
      "...          ...              ...  \n",
      "6085    0.000038         0.999850  \n",
      "6086    0.000038         0.999887  \n",
      "6087    0.000038         0.999925  \n",
      "6088    0.000038         0.999962  \n",
      "6089    0.000038         1.000000  \n",
      "\n",
      "[6090 rows x 4 columns]\n",
      "\n",
      "----------------------------------------------------------------\n",
      "\n",
      "   host_response_time  frequency  percentage  cumulative_perc\n",
      "0      within an hour      18792    0.706945         0.706945\n",
      "1        within a day       4725    0.177752         0.884696\n",
      "2  within a few hours       1957    0.073621         0.958318\n",
      "3  a few days or more       1108    0.041682         1.000000\n",
      "\n",
      "----------------------------------------------------------------\n",
      "\n",
      "   host_response_rate  frequency  percentage  cumulative_perc\n",
      "0                100%      17583    0.661463         0.661463\n",
      "1                 94%       3766    0.141675         0.803137\n",
      "2                 99%       1106    0.041607         0.844745\n",
      "3                  0%        567    0.021330         0.866075\n",
      "4                 90%        559    0.021029         0.887104\n",
      "..                ...        ...         ...              ...\n",
      "71                18%          2    0.000075         0.999850\n",
      "72                72%          1    0.000038         0.999887\n",
      "73                46%          1    0.000038         0.999925\n",
      "74                54%          1    0.000038         0.999962\n",
      "75                 5%          1    0.000038         1.000000\n",
      "\n",
      "[76 rows x 4 columns]\n",
      "\n",
      "----------------------------------------------------------------\n",
      "\n",
      "   host_acceptance_rate  frequency  percentage  cumulative_perc\n",
      "0                  100%      10846    0.408020         0.408020\n",
      "1                   99%       3339    0.125611         0.533632\n",
      "2                   89%       3096    0.116470         0.650102\n",
      "3                   98%       1418    0.053344         0.703446\n",
      "4                   97%       1095    0.041193         0.744639\n",
      "..                  ...        ...         ...              ...\n",
      "93                  23%          2    0.000075         0.999774\n",
      "94                  27%          2    0.000075         0.999850\n",
      "95                  32%          2    0.000075         0.999925\n",
      "96                   7%          1    0.000038         0.999962\n",
      "97                  42%          1    0.000038         1.000000\n",
      "\n",
      "[98 rows x 4 columns]\n",
      "\n",
      "----------------------------------------------------------------\n",
      "\n",
      "  host_is_superhost  frequency  percentage  cumulative_perc\n",
      "0                 f      16855    0.634076         0.634076\n",
      "1                 t       9727    0.365924         1.000000\n",
      "\n",
      "----------------------------------------------------------------\n",
      "\n",
      "                 host_verifications  frequency  percentage  cumulative_perc\n",
      "0                ['email', 'phone']      20504    0.771349         0.771349\n",
      "1  ['email', 'phone', 'work_email']       3381    0.127191         0.898540\n",
      "2                         ['phone']       2527    0.095064         0.993605\n",
      "3           ['phone', 'work_email']        105    0.003950         0.997555\n",
      "4                         ['email']         33    0.001241         0.998796\n",
      "5                                []         30    0.001129         0.999925\n",
      "6           ['email', 'work_email']          1    0.000038         0.999962\n",
      "7                    ['work_email']          1    0.000038         1.000000\n",
      "\n",
      "----------------------------------------------------------------\n",
      "\n",
      "  host_has_profile_pic  frequency  percentage  cumulative_perc\n",
      "0                    t      26100    0.981867         0.981867\n",
      "1                    f        482    0.018133         1.000000\n",
      "\n",
      "----------------------------------------------------------------\n",
      "\n",
      "  host_identity_verified  frequency  percentage  cumulative_perc\n",
      "0                      t      25426    0.956512         0.956512\n",
      "1                      f       1156    0.043488         1.000000\n",
      "\n",
      "----------------------------------------------------------------\n",
      "\n",
      "    neighbourhood_cleansed  frequency  percentage  cumulative_perc\n",
      "0              Cuauht√©moc      12231    0.460123         0.460123\n",
      "1           Miguel Hidalgo       4533    0.170529         0.630652\n",
      "2           Benito Ju√°rez       3152    0.118576         0.749229\n",
      "3                Coyoac√°n       1719    0.064668         0.813897\n",
      "4         √Ålvaro Obreg√≥n       1075    0.040441         0.854338\n",
      "5                  Tlalpan        812    0.030547         0.884885\n",
      "6      Venustiano Carranza        734    0.027613         0.912497\n",
      "7        Gustavo A. Madero        506    0.019035         0.931533\n",
      "8    Cuajimalpa de Morelos        442    0.016628         0.948160\n",
      "9                Iztacalco        399    0.015010         0.963171\n",
      "10            Azcapotzalco        349    0.013129         0.976300\n",
      "11              Iztapalapa        266    0.010007         0.986307\n",
      "12  La Magdalena Contreras        143    0.005380         0.991686\n",
      "13              Xochimilco        143    0.005380         0.997066\n",
      "14                Tl√°huac         50    0.001881         0.998947\n",
      "15              Milpa Alta         28    0.001053         1.000000\n",
      "\n",
      "----------------------------------------------------------------\n",
      "\n",
      "                  property_type  frequency  percentage  cumulative_perc\n",
      "0            Entire rental unit       9971    0.375103         0.375103\n",
      "1                  Entire condo       3423    0.128771         0.503875\n",
      "2   Private room in rental unit       3034    0.114137         0.618012\n",
      "3          Private room in home       2266    0.085246         0.703258\n",
      "4                   Entire loft       1515    0.056993         0.760251\n",
      "..                          ...        ...         ...              ...\n",
      "87        Private room in floor          1    0.000038         0.999850\n",
      "88                 Earthen home          1    0.000038         0.999887\n",
      "89                Entire in-law          1    0.000038         0.999925\n",
      "90          Shared room in dorm          1    0.000038         0.999962\n",
      "91                        Tower          1    0.000038         1.000000\n",
      "\n",
      "[92 rows x 4 columns]\n",
      "\n",
      "----------------------------------------------------------------\n",
      "\n",
      "         room_type  frequency  percentage  cumulative_perc\n",
      "0  Entire home/apt      17363    0.653186         0.653186\n",
      "1     Private room       8693    0.327026         0.980212\n",
      "2      Shared room        401    0.015085         0.995298\n",
      "3       Hotel room        125    0.004702         1.000000\n",
      "\n",
      "----------------------------------------------------------------\n",
      "\n",
      "                                               amenities  frequency  \\\n",
      "0      [\"Iron\", \"Elevator\", \"High chair\", \"Wifi\", \"Re...         71   \n",
      "1      [\"Iron\", \"High chair\", \"Wifi\", \"Refrigerator\",...         41   \n",
      "2                                                     []         40   \n",
      "3      [\"Iron\", \"Wifi\", \"Heating\", \"Self check-in\", \"...         29   \n",
      "4      [\"Iron\", \"Elevator\", \"High chair\", \"Wifi\", \"Re...         25   \n",
      "...                                                  ...        ...   \n",
      "24693  [\"Host greets you\", \"Kitchen\", \"Refrigerator\",...          1   \n",
      "24694  [\"Iron\", \"Washer\", \"Private patio or balcony\",...          1   \n",
      "24695  [\"Iron\", \"Private patio or balcony\", \"Heating\"...          1   \n",
      "24696  [\"Shared patio or balcony\", \"Wifi\", \"Freezer\",...          1   \n",
      "24697  [\"Free parking on premises\", \"Washer\", \"TV\", \"...          1   \n",
      "\n",
      "       percentage  cumulative_perc  \n",
      "0        0.002671         0.002671  \n",
      "1        0.001542         0.004213  \n",
      "2        0.001505         0.005718  \n",
      "3        0.001091         0.006809  \n",
      "4        0.000940         0.007750  \n",
      "...           ...              ...  \n",
      "24693    0.000038         0.999850  \n",
      "24694    0.000038         0.999887  \n",
      "24695    0.000038         0.999925  \n",
      "24696    0.000038         0.999962  \n",
      "24697    0.000038         1.000000  \n",
      "\n",
      "[24698 rows x 4 columns]\n",
      "\n",
      "----------------------------------------------------------------\n",
      "\n",
      "  has_availability  frequency  percentage  cumulative_perc\n",
      "0                t      25533    0.960537         0.960537\n",
      "1                f       1049    0.039463         1.000000\n",
      "\n",
      "----------------------------------------------------------------\n",
      "\n",
      "             first_review  frequency  percentage  cumulative_perc\n",
      "0     1900-01-01 00:00:00       3656    0.137537         0.137537\n",
      "1                27/08/23        105    0.003950         0.141487\n",
      "2                31/10/22        103    0.003875         0.145362\n",
      "3                29/10/23         82    0.003085         0.148446\n",
      "4                30/10/23         82    0.003085         0.151531\n",
      "...                   ...        ...         ...              ...\n",
      "3321             06/04/16          1    0.000038         0.999850\n",
      "3322             14/07/20          1    0.000038         0.999887\n",
      "3323             12/11/16          1    0.000038         0.999925\n",
      "3324             11/01/21          1    0.000038         0.999962\n",
      "3325             18/12/18          1    0.000038         1.000000\n",
      "\n",
      "[3326 rows x 4 columns]\n",
      "\n",
      "----------------------------------------------------------------\n",
      "\n",
      "              last_review  frequency  percentage  cumulative_perc\n",
      "0     1900-01-01 00:00:00       3656    0.137537         0.137537\n",
      "1                22/09/24       1081    0.040667         0.178203\n",
      "2                16/09/24       1068    0.040178         0.218381\n",
      "3                23/09/24        898    0.033782         0.252163\n",
      "4                17/09/24        711    0.026747         0.278911\n",
      "...                   ...        ...         ...              ...\n",
      "1630             24/04/19          1    0.000038         0.999850\n",
      "1631             09/08/21          1    0.000038         0.999887\n",
      "1632             02/10/19          1    0.000038         0.999925\n",
      "1633             15/07/18          1    0.000038         0.999962\n",
      "1634             14/11/23          1    0.000038         1.000000\n",
      "\n",
      "[1635 rows x 4 columns]\n",
      "\n",
      "----------------------------------------------------------------\n",
      "\n",
      "  instant_bookable  frequency  percentage  cumulative_perc\n",
      "0                f      16080    0.604921         0.604921\n",
      "1                t      10502    0.395079         1.000000\n",
      "\n",
      "----------------------------------------------------------------\n",
      "\n"
     ]
    }
   ],
   "source": [
    "#Obtengo un analisis univariado de las variables categorias\n",
    "# “availability_365”* , “number_of_reviews”, “review_scores_location”,  \n",
    "# “review_scores_value”, “reviews_per_month”, “review_scores_communication”, \n",
    "# “review_scores_checkin”, “review_scores_cleanliness”, “review_scores_accuracy”\n",
    "freq_tbl(Mexico)"
   ]
  },
  {
   "cell_type": "code",
   "execution_count": 8,
   "metadata": {},
   "outputs": [
    {
     "name": "stdout",
     "output_type": "stream",
     "text": [
      "<class 'pandas.core.series.Series'>\n",
      "RangeIndex: 26582 entries, 0 to 26581\n",
      "Series name: availability_365\n",
      "Non-Null Count  Dtype\n",
      "--------------  -----\n",
      "26582 non-null  int64\n",
      "dtypes: int64(1)\n",
      "memory usage: 207.8 KB\n"
     ]
    }
   ],
   "source": [
    "Mexico[\"availability_365\"].info()\n",
    "n=26582"
   ]
  },
  {
   "cell_type": "code",
   "execution_count": 10,
   "metadata": {},
   "outputs": [
    {
     "data": {
      "text/plain": [
       "[0, 365]"
      ]
     },
     "execution_count": 10,
     "metadata": {},
     "output_type": "execute_result"
    }
   ],
   "source": [
    "#Obtenemos limite superior e inferior\n",
    "Max_365= Mexico[\"availability_365\"]. max()\n",
    "Min_365= Mexico[\"availability_365\"]. min()\n",
    "Limites_365=[Min_365, Max_365]\n",
    "Limites_365"
   ]
  },
  {
   "cell_type": "code",
   "execution_count": 11,
   "metadata": {},
   "outputs": [
    {
     "data": {
      "text/plain": [
       "365"
      ]
     },
     "execution_count": 11,
     "metadata": {},
     "output_type": "execute_result"
    }
   ],
   "source": [
    "#Calculamos el RANGO\n",
    "R_365= Max_365-Min_365\n",
    "R_365"
   ]
  },
  {
   "cell_type": "code",
   "execution_count": 12,
   "metadata": {},
   "outputs": [
    {
     "data": {
      "text/plain": [
       "15.689631010177528"
      ]
     },
     "execution_count": 12,
     "metadata": {},
     "output_type": "execute_result"
    }
   ],
   "source": [
    "#Calculamos el numero de intervalos de clase\n",
    "ni_365= 1+3.32*np.log10(n)\n",
    "ni_365"
   ]
  },
  {
   "cell_type": "code",
   "execution_count": 13,
   "metadata": {},
   "outputs": [
    {
     "data": {
      "text/plain": [
       "23.263772090193346"
      ]
     },
     "execution_count": 13,
     "metadata": {},
     "output_type": "execute_result"
    }
   ],
   "source": [
    "#Calculamos el ancho de los intervalos\n",
    "i_365= R_365/ni_365\n",
    "i_365"
   ]
  },
  {
   "cell_type": "code",
   "execution_count": 14,
   "metadata": {},
   "outputs": [
    {
     "data": {
      "text/plain": [
       "array([  0.        ,  24.33333333,  48.66666667,  73.        ,\n",
       "        97.33333333, 121.66666667, 146.        , 170.33333333,\n",
       "       194.66666667, 219.        , 243.33333333, 267.66666667,\n",
       "       292.        , 316.33333333, 340.66666667, 365.        ])"
      ]
     },
     "execution_count": 14,
     "metadata": {},
     "output_type": "execute_result"
    }
   ],
   "source": [
    "#Categorizacion de variables\n",
    "intervalos_365=np.linspace(Min_365, Max_365, 16)\n",
    "intervalos_365"
   ]
  },
  {
   "cell_type": "code",
   "execution_count": 15,
   "metadata": {},
   "outputs": [],
   "source": [
    "#Creamos las categorias\n",
    "categorias_365= [\"Categoria 1\", \"Categoria 2\", \"Categoria 3\", \n",
    "                 \"Categoria 4\", \"Categoria 5\", \"Categoria 6\", \n",
    "                 \"Categoria 7\", \"Categoria 8\", \"Categoria 9\",\n",
    "                 \"Categoria 10\", \"Categoria 11\",\"Categoria 12\",\n",
    "                 \"Categoria 13\", \"Categoria 14\", \"Categoria 15\"]"
   ]
  },
  {
   "cell_type": "code",
   "execution_count": 16,
   "metadata": {},
   "outputs": [
    {
     "data": {
      "text/plain": [
       "0        Categoria 15\n",
       "1        Categoria 14\n",
       "2        Categoria 14\n",
       "3        Categoria 11\n",
       "4        Categoria 12\n",
       "             ...     \n",
       "26577    Categoria 15\n",
       "26578     Categoria 8\n",
       "26579     Categoria 8\n",
       "26580     Categoria 8\n",
       "26581     Categoria 7\n",
       "Name: availability_365, Length: 26582, dtype: category\n",
       "Categories (15, object): ['Categoria 1' < 'Categoria 2' < 'Categoria 3' < 'Categoria 4' ... 'Categoria 12' < 'Categoria 13' < 'Categoria 14' < 'Categoria 15']"
      ]
     },
     "execution_count": 16,
     "metadata": {},
     "output_type": "execute_result"
    }
   ],
   "source": [
    "#Finalmente creamos las categorias en la columna numerica\n",
    "Mexico[\"availability_365\"]= pd.cut(x=Mexico[\"availability_365\"], bins=intervalos_365, labels=categorias_365)\n",
    "Mexico[\"availability_365\"]"
   ]
  },
  {
   "cell_type": "code",
   "execution_count": 17,
   "metadata": {},
   "outputs": [
    {
     "data": {
      "text/html": [
       "<div>\n",
       "<style scoped>\n",
       "    .dataframe tbody tr th:only-of-type {\n",
       "        vertical-align: middle;\n",
       "    }\n",
       "\n",
       "    .dataframe tbody tr th {\n",
       "        vertical-align: top;\n",
       "    }\n",
       "\n",
       "    .dataframe thead th {\n",
       "        text-align: right;\n",
       "    }\n",
       "</style>\n",
       "<table border=\"1\" class=\"dataframe\">\n",
       "  <thead>\n",
       "    <tr style=\"text-align: right;\">\n",
       "      <th></th>\n",
       "      <th>availability_365</th>\n",
       "      <th>frequency</th>\n",
       "      <th>percentage</th>\n",
       "      <th>cumulative_perc</th>\n",
       "    </tr>\n",
       "  </thead>\n",
       "  <tbody>\n",
       "    <tr>\n",
       "      <th>0</th>\n",
       "      <td>Categoria 15</td>\n",
       "      <td>6605</td>\n",
       "      <td>0.248476</td>\n",
       "      <td>0.272686</td>\n",
       "    </tr>\n",
       "    <tr>\n",
       "      <th>1</th>\n",
       "      <td>Categoria 14</td>\n",
       "      <td>2815</td>\n",
       "      <td>0.105899</td>\n",
       "      <td>0.388903</td>\n",
       "    </tr>\n",
       "    <tr>\n",
       "      <th>2</th>\n",
       "      <td>Categoria 11</td>\n",
       "      <td>1977</td>\n",
       "      <td>0.074374</td>\n",
       "      <td>0.470523</td>\n",
       "    </tr>\n",
       "    <tr>\n",
       "      <th>3</th>\n",
       "      <td>Categoria 4</td>\n",
       "      <td>1692</td>\n",
       "      <td>0.063652</td>\n",
       "      <td>0.540377</td>\n",
       "    </tr>\n",
       "    <tr>\n",
       "      <th>4</th>\n",
       "      <td>Categoria 12</td>\n",
       "      <td>1570</td>\n",
       "      <td>0.059063</td>\n",
       "      <td>0.605194</td>\n",
       "    </tr>\n",
       "    <tr>\n",
       "      <th>5</th>\n",
       "      <td>Categoria 13</td>\n",
       "      <td>1436</td>\n",
       "      <td>0.054022</td>\n",
       "      <td>0.664479</td>\n",
       "    </tr>\n",
       "    <tr>\n",
       "      <th>6</th>\n",
       "      <td>Categoria 3</td>\n",
       "      <td>1236</td>\n",
       "      <td>0.046498</td>\n",
       "      <td>0.715507</td>\n",
       "    </tr>\n",
       "    <tr>\n",
       "      <th>7</th>\n",
       "      <td>Categoria 7</td>\n",
       "      <td>1122</td>\n",
       "      <td>0.042209</td>\n",
       "      <td>0.761828</td>\n",
       "    </tr>\n",
       "    <tr>\n",
       "      <th>8</th>\n",
       "      <td>Categoria 8</td>\n",
       "      <td>1089</td>\n",
       "      <td>0.040968</td>\n",
       "      <td>0.806787</td>\n",
       "    </tr>\n",
       "    <tr>\n",
       "      <th>9</th>\n",
       "      <td>Categoria 10</td>\n",
       "      <td>1052</td>\n",
       "      <td>0.039576</td>\n",
       "      <td>0.850219</td>\n",
       "    </tr>\n",
       "    <tr>\n",
       "      <th>10</th>\n",
       "      <td>Categoria 6</td>\n",
       "      <td>883</td>\n",
       "      <td>0.033218</td>\n",
       "      <td>0.886673</td>\n",
       "    </tr>\n",
       "    <tr>\n",
       "      <th>11</th>\n",
       "      <td>Categoria 1</td>\n",
       "      <td>769</td>\n",
       "      <td>0.028929</td>\n",
       "      <td>0.918421</td>\n",
       "    </tr>\n",
       "    <tr>\n",
       "      <th>12</th>\n",
       "      <td>Categoria 2</td>\n",
       "      <td>706</td>\n",
       "      <td>0.026559</td>\n",
       "      <td>0.947568</td>\n",
       "    </tr>\n",
       "    <tr>\n",
       "      <th>13</th>\n",
       "      <td>Categoria 9</td>\n",
       "      <td>636</td>\n",
       "      <td>0.023926</td>\n",
       "      <td>0.973825</td>\n",
       "    </tr>\n",
       "    <tr>\n",
       "      <th>14</th>\n",
       "      <td>Categoria 5</td>\n",
       "      <td>634</td>\n",
       "      <td>0.023851</td>\n",
       "      <td>1.000000</td>\n",
       "    </tr>\n",
       "  </tbody>\n",
       "</table>\n",
       "</div>"
      ],
      "text/plain": [
       "   availability_365  frequency  percentage  cumulative_perc\n",
       "0      Categoria 15       6605    0.248476         0.272686\n",
       "1      Categoria 14       2815    0.105899         0.388903\n",
       "2      Categoria 11       1977    0.074374         0.470523\n",
       "3       Categoria 4       1692    0.063652         0.540377\n",
       "4      Categoria 12       1570    0.059063         0.605194\n",
       "5      Categoria 13       1436    0.054022         0.664479\n",
       "6       Categoria 3       1236    0.046498         0.715507\n",
       "7       Categoria 7       1122    0.042209         0.761828\n",
       "8       Categoria 8       1089    0.040968         0.806787\n",
       "9      Categoria 10       1052    0.039576         0.850219\n",
       "10      Categoria 6        883    0.033218         0.886673\n",
       "11      Categoria 1        769    0.028929         0.918421\n",
       "12      Categoria 2        706    0.026559         0.947568\n",
       "13      Categoria 9        636    0.023926         0.973825\n",
       "14      Categoria 5        634    0.023851         1.000000"
      ]
     },
     "execution_count": 17,
     "metadata": {},
     "output_type": "execute_result"
    }
   ],
   "source": [
    "#obtengo analisis univariado de una variable categorica en especifico   \n",
    "\n",
    "table_365=freq_tbl(Mexico[\"availability_365\"])\n",
    "table_365"
   ]
  },
  {
   "cell_type": "code",
   "execution_count": 18,
   "metadata": {},
   "outputs": [
    {
     "data": {
      "text/html": [
       "<div>\n",
       "<style scoped>\n",
       "    .dataframe tbody tr th:only-of-type {\n",
       "        vertical-align: middle;\n",
       "    }\n",
       "\n",
       "    .dataframe tbody tr th {\n",
       "        vertical-align: top;\n",
       "    }\n",
       "\n",
       "    .dataframe thead th {\n",
       "        text-align: right;\n",
       "    }\n",
       "</style>\n",
       "<table border=\"1\" class=\"dataframe\">\n",
       "  <thead>\n",
       "    <tr style=\"text-align: right;\">\n",
       "      <th></th>\n",
       "      <th>availability_365</th>\n",
       "      <th>frequency</th>\n",
       "    </tr>\n",
       "  </thead>\n",
       "  <tbody>\n",
       "    <tr>\n",
       "      <th>0</th>\n",
       "      <td>Categoria 15</td>\n",
       "      <td>6605</td>\n",
       "    </tr>\n",
       "    <tr>\n",
       "      <th>1</th>\n",
       "      <td>Categoria 14</td>\n",
       "      <td>2815</td>\n",
       "    </tr>\n",
       "    <tr>\n",
       "      <th>2</th>\n",
       "      <td>Categoria 11</td>\n",
       "      <td>1977</td>\n",
       "    </tr>\n",
       "    <tr>\n",
       "      <th>3</th>\n",
       "      <td>Categoria 4</td>\n",
       "      <td>1692</td>\n",
       "    </tr>\n",
       "    <tr>\n",
       "      <th>4</th>\n",
       "      <td>Categoria 12</td>\n",
       "      <td>1570</td>\n",
       "    </tr>\n",
       "    <tr>\n",
       "      <th>5</th>\n",
       "      <td>Categoria 13</td>\n",
       "      <td>1436</td>\n",
       "    </tr>\n",
       "    <tr>\n",
       "      <th>6</th>\n",
       "      <td>Categoria 3</td>\n",
       "      <td>1236</td>\n",
       "    </tr>\n",
       "    <tr>\n",
       "      <th>7</th>\n",
       "      <td>Categoria 7</td>\n",
       "      <td>1122</td>\n",
       "    </tr>\n",
       "    <tr>\n",
       "      <th>8</th>\n",
       "      <td>Categoria 8</td>\n",
       "      <td>1089</td>\n",
       "    </tr>\n",
       "    <tr>\n",
       "      <th>9</th>\n",
       "      <td>Categoria 10</td>\n",
       "      <td>1052</td>\n",
       "    </tr>\n",
       "    <tr>\n",
       "      <th>10</th>\n",
       "      <td>Categoria 6</td>\n",
       "      <td>883</td>\n",
       "    </tr>\n",
       "    <tr>\n",
       "      <th>11</th>\n",
       "      <td>Categoria 1</td>\n",
       "      <td>769</td>\n",
       "    </tr>\n",
       "    <tr>\n",
       "      <th>12</th>\n",
       "      <td>Categoria 2</td>\n",
       "      <td>706</td>\n",
       "    </tr>\n",
       "    <tr>\n",
       "      <th>13</th>\n",
       "      <td>Categoria 9</td>\n",
       "      <td>636</td>\n",
       "    </tr>\n",
       "    <tr>\n",
       "      <th>14</th>\n",
       "      <td>Categoria 5</td>\n",
       "      <td>634</td>\n",
       "    </tr>\n",
       "  </tbody>\n",
       "</table>\n",
       "</div>"
      ],
      "text/plain": [
       "   availability_365  frequency\n",
       "0      Categoria 15       6605\n",
       "1      Categoria 14       2815\n",
       "2      Categoria 11       1977\n",
       "3       Categoria 4       1692\n",
       "4      Categoria 12       1570\n",
       "5      Categoria 13       1436\n",
       "6       Categoria 3       1236\n",
       "7       Categoria 7       1122\n",
       "8       Categoria 8       1089\n",
       "9      Categoria 10       1052\n",
       "10      Categoria 6        883\n",
       "11      Categoria 1        769\n",
       "12      Categoria 2        706\n",
       "13      Categoria 9        636\n",
       "14      Categoria 5        634"
      ]
     },
     "execution_count": 18,
     "metadata": {},
     "output_type": "execute_result"
    }
   ],
   "source": [
    "#elimino las columnas ppercentage y cumulative perc para trabajar con las frecuencias\n",
    "table_365= table_365.drop([\"percentage\",\"cumulative_perc\"],axis=1)\n",
    "table_365"
   ]
  },
  {
   "cell_type": "code",
   "execution_count": 42,
   "metadata": {},
   "outputs": [
    {
     "data": {
      "text/html": [
       "<div>\n",
       "<style scoped>\n",
       "    .dataframe tbody tr th:only-of-type {\n",
       "        vertical-align: middle;\n",
       "    }\n",
       "\n",
       "    .dataframe tbody tr th {\n",
       "        vertical-align: top;\n",
       "    }\n",
       "\n",
       "    .dataframe thead th {\n",
       "        text-align: right;\n",
       "    }\n",
       "</style>\n",
       "<table border=\"1\" class=\"dataframe\">\n",
       "  <thead>\n",
       "    <tr style=\"text-align: right;\">\n",
       "      <th></th>\n",
       "      <th>frequency</th>\n",
       "    </tr>\n",
       "    <tr>\n",
       "      <th>availability_365</th>\n",
       "      <th></th>\n",
       "    </tr>\n",
       "  </thead>\n",
       "  <tbody>\n",
       "    <tr>\n",
       "      <th>Categoria 15</th>\n",
       "      <td>6605</td>\n",
       "    </tr>\n",
       "    <tr>\n",
       "      <th>Categoria 14</th>\n",
       "      <td>2815</td>\n",
       "    </tr>\n",
       "    <tr>\n",
       "      <th>Categoria 11</th>\n",
       "      <td>1977</td>\n",
       "    </tr>\n",
       "    <tr>\n",
       "      <th>Categoria 4</th>\n",
       "      <td>1692</td>\n",
       "    </tr>\n",
       "    <tr>\n",
       "      <th>Categoria 12</th>\n",
       "      <td>1570</td>\n",
       "    </tr>\n",
       "    <tr>\n",
       "      <th>Categoria 13</th>\n",
       "      <td>1436</td>\n",
       "    </tr>\n",
       "    <tr>\n",
       "      <th>Categoria 3</th>\n",
       "      <td>1236</td>\n",
       "    </tr>\n",
       "    <tr>\n",
       "      <th>Categoria 7</th>\n",
       "      <td>1122</td>\n",
       "    </tr>\n",
       "    <tr>\n",
       "      <th>Categoria 8</th>\n",
       "      <td>1089</td>\n",
       "    </tr>\n",
       "    <tr>\n",
       "      <th>Categoria 10</th>\n",
       "      <td>1052</td>\n",
       "    </tr>\n",
       "    <tr>\n",
       "      <th>Categoria 6</th>\n",
       "      <td>883</td>\n",
       "    </tr>\n",
       "    <tr>\n",
       "      <th>Categoria 1</th>\n",
       "      <td>769</td>\n",
       "    </tr>\n",
       "    <tr>\n",
       "      <th>Categoria 2</th>\n",
       "      <td>706</td>\n",
       "    </tr>\n",
       "    <tr>\n",
       "      <th>Categoria 9</th>\n",
       "      <td>636</td>\n",
       "    </tr>\n",
       "    <tr>\n",
       "      <th>Categoria 5</th>\n",
       "      <td>634</td>\n",
       "    </tr>\n",
       "  </tbody>\n",
       "</table>\n",
       "</div>"
      ],
      "text/plain": [
       "                  frequency\n",
       "availability_365           \n",
       "Categoria 15           6605\n",
       "Categoria 14           2815\n",
       "Categoria 11           1977\n",
       "Categoria 4            1692\n",
       "Categoria 12           1570\n",
       "Categoria 13           1436\n",
       "Categoria 3            1236\n",
       "Categoria 7            1122\n",
       "Categoria 8            1089\n",
       "Categoria 10           1052\n",
       "Categoria 6             883\n",
       "Categoria 1             769\n",
       "Categoria 2             706\n",
       "Categoria 9             636\n",
       "Categoria 5             634"
      ]
     },
     "execution_count": 42,
     "metadata": {},
     "output_type": "execute_result"
    }
   ],
   "source": [
    "#ajusto indice de mi dataframe\n",
    "table_365_index= table_365.set_index('availability_365')\n",
    "table_365_index"
   ]
  },
  {
   "cell_type": "code",
   "execution_count": 44,
   "metadata": {},
   "outputs": [
    {
     "data": {
      "text/plain": [
       "Text(0, 0.5, 'Frecuencia')"
      ]
     },
     "execution_count": 44,
     "metadata": {},
     "output_type": "execute_result"
    },
    {
     "data": {
      "image/png": "[encoded data removed]",
      "text/plain": [
       "<Figure size 1000x400 with 1 Axes>"
      ]
     },
     "metadata": {},
     "output_type": "display_data"
    }
   ],
   "source": [
    "table_365_index.plot(kind=\"bar\", width=0.8, figsize=(10,4), color= \"pink\")\n",
    "plt.title(\"Availability_365\")\n",
    "plt.xlabel(\"Categorias\")\n",
    "plt.ylabel(\"Frecuencia\")"
   ]
  },
  {
   "cell_type": "markdown",
   "metadata": {},
   "source": [
    "“number_of_reviews”"
   ]
  },
  {
   "cell_type": "code",
   "execution_count": null,
   "metadata": {},
   "outputs": [],
   "source": [
    "Mexico[\"number_of_reviews_\"].info()\n",
    "n=26582"
   ]
  },
  {
   "cell_type": "markdown",
   "metadata": {},
   "source": [
    "“review_scores_location”"
   ]
  },
  {
   "cell_type": "code",
   "execution_count": 52,
   "metadata": {},
   "outputs": [
    {
     "name": "stdout",
     "output_type": "stream",
     "text": [
      "<class 'pandas.core.series.Series'>\n",
      "RangeIndex: 26582 entries, 0 to 26581\n",
      "Series name: review_scores_location\n",
      "Non-Null Count  Dtype  \n",
      "--------------  -----  \n",
      "26582 non-null  float64\n",
      "dtypes: float64(1)\n",
      "memory usage: 207.8 KB\n"
     ]
    }
   ],
   "source": [
    "Mexico[\"review_scores_location\"].info()\n",
    "n=26582"
   ]
  },
  {
   "cell_type": "code",
   "execution_count": 53,
   "metadata": {},
   "outputs": [
    {
     "data": {
      "text/plain": [
       "[4.58, 5.0]"
      ]
     },
     "execution_count": 53,
     "metadata": {},
     "output_type": "execute_result"
    }
   ],
   "source": [
    "#Obtenemos limite superior e inferior\n",
    "Max_scores= Mexico[\"review_scores_location\"]. max()\n",
    "Min_scores= Mexico[\"review_scores_location\"]. min()\n",
    "Limites_scores=[Min_scores, Max_scores]\n",
    "Limites_scores"
   ]
  },
  {
   "cell_type": "code",
   "execution_count": 54,
   "metadata": {},
   "outputs": [
    {
     "data": {
      "text/plain": [
       "0.41999999999999993"
      ]
     },
     "execution_count": 54,
     "metadata": {},
     "output_type": "execute_result"
    }
   ],
   "source": [
    "#Calculamos el RANGO\n",
    "R_scores= Max_scores-Min_scores\n",
    "R_scores\n"
   ]
  },
  {
   "cell_type": "code",
   "execution_count": 55,
   "metadata": {},
   "outputs": [
    {
     "data": {
      "text/plain": [
       "15.689631010177528"
      ]
     },
     "execution_count": 55,
     "metadata": {},
     "output_type": "execute_result"
    }
   ],
   "source": [
    "\n",
    "#Calculamos el numero de intervalos de clase\n",
    "ni_scores= 1+3.32*np.log10(n)\n",
    "ni_scores"
   ]
  },
  {
   "cell_type": "code",
   "execution_count": 56,
   "metadata": {},
   "outputs": [
    {
     "data": {
      "text/plain": [
       "0.026769271994195078"
      ]
     },
     "execution_count": 56,
     "metadata": {},
     "output_type": "execute_result"
    }
   ],
   "source": [
    "\n",
    "#Calculamos el ancho de los intervalos\n",
    "i_scores= R_scores/ni_scores\n",
    "i_scores"
   ]
  },
  {
   "cell_type": "code",
   "execution_count": 57,
   "metadata": {},
   "outputs": [
    {
     "data": {
      "text/plain": [
       "array([4.58 , 4.608, 4.636, 4.664, 4.692, 4.72 , 4.748, 4.776, 4.804,\n",
       "       4.832, 4.86 , 4.888, 4.916, 4.944, 4.972, 5.   ])"
      ]
     },
     "execution_count": 57,
     "metadata": {},
     "output_type": "execute_result"
    }
   ],
   "source": [
    "\n",
    "#Categorizacion de variables\n",
    "intervalos_scores=np.linspace(Min_scores, Max_scores, 16)\n",
    "intervalos_scores"
   ]
  },
  {
   "cell_type": "code",
   "execution_count": 58,
   "metadata": {},
   "outputs": [],
   "source": [
    "#Creamos las categorias\n",
    "categorias_scores= [\"Categoria 1\", \"Categoria 2\", \"Categoria 3\", \n",
    "                 \"Categoria 4\", \"Categoria 5\", \"Categoria 6\", \n",
    "                 \"Categoria 7\", \"Categoria 8\", \"Categoria 9\",\n",
    "                 \"Categoria 10\", \"Categoria 11\",\"Categoria 12\",\n",
    "                 \"Categoria 13\", \"Categoria 14\", \"Categoria 15\"]"
   ]
  },
  {
   "cell_type": "code",
   "execution_count": 59,
   "metadata": {},
   "outputs": [
    {
     "data": {
      "text/plain": [
       "0        Categoria 12\n",
       "1        Categoria 15\n",
       "2        Categoria 15\n",
       "3        Categoria 14\n",
       "4        Categoria 12\n",
       "             ...     \n",
       "26577    Categoria 12\n",
       "26578    Categoria 12\n",
       "26579    Categoria 12\n",
       "26580    Categoria 12\n",
       "26581    Categoria 12\n",
       "Name: review_scores_location, Length: 26582, dtype: category\n",
       "Categories (15, object): ['Categoria 1' < 'Categoria 2' < 'Categoria 3' < 'Categoria 4' ... 'Categoria 12' < 'Categoria 13' < 'Categoria 14' < 'Categoria 15']"
      ]
     },
     "execution_count": 59,
     "metadata": {},
     "output_type": "execute_result"
    }
   ],
   "source": [
    "#Finalmente creamos las categorias en la columna numerica\n",
    "Mexico[\"review_scores_location\"]= pd.cut(x=Mexico[\"review_scores_location\"], bins=intervalos_scores, labels=categorias_scores)\n",
    "Mexico[\"review_scores_location\"]"
   ]
  },
  {
   "cell_type": "code",
   "execution_count": 60,
   "metadata": {},
   "outputs": [
    {
     "data": {
      "text/html": [
       "<div>\n",
       "<style scoped>\n",
       "    .dataframe tbody tr th:only-of-type {\n",
       "        vertical-align: middle;\n",
       "    }\n",
       "\n",
       "    .dataframe tbody tr th {\n",
       "        vertical-align: top;\n",
       "    }\n",
       "\n",
       "    .dataframe thead th {\n",
       "        text-align: right;\n",
       "    }\n",
       "</style>\n",
       "<table border=\"1\" class=\"dataframe\">\n",
       "  <thead>\n",
       "    <tr style=\"text-align: right;\">\n",
       "      <th></th>\n",
       "      <th>review_scores_location</th>\n",
       "      <th>frequency</th>\n",
       "      <th>percentage</th>\n",
       "      <th>cumulative_perc</th>\n",
       "    </tr>\n",
       "  </thead>\n",
       "  <tbody>\n",
       "    <tr>\n",
       "      <th>0</th>\n",
       "      <td>Categoria 15</td>\n",
       "      <td>7838</td>\n",
       "      <td>0.294861</td>\n",
       "      <td>0.295562</td>\n",
       "    </tr>\n",
       "    <tr>\n",
       "      <th>1</th>\n",
       "      <td>Categoria 12</td>\n",
       "      <td>7286</td>\n",
       "      <td>0.274095</td>\n",
       "      <td>0.570308</td>\n",
       "    </tr>\n",
       "    <tr>\n",
       "      <th>2</th>\n",
       "      <td>Categoria 14</td>\n",
       "      <td>2355</td>\n",
       "      <td>0.088594</td>\n",
       "      <td>0.659112</td>\n",
       "    </tr>\n",
       "    <tr>\n",
       "      <th>3</th>\n",
       "      <td>Categoria 13</td>\n",
       "      <td>2202</td>\n",
       "      <td>0.082838</td>\n",
       "      <td>0.742147</td>\n",
       "    </tr>\n",
       "    <tr>\n",
       "      <th>4</th>\n",
       "      <td>Categoria 10</td>\n",
       "      <td>1131</td>\n",
       "      <td>0.042548</td>\n",
       "      <td>0.784796</td>\n",
       "    </tr>\n",
       "    <tr>\n",
       "      <th>5</th>\n",
       "      <td>Categoria 9</td>\n",
       "      <td>1063</td>\n",
       "      <td>0.039989</td>\n",
       "      <td>0.824880</td>\n",
       "    </tr>\n",
       "    <tr>\n",
       "      <th>6</th>\n",
       "      <td>Categoria 11</td>\n",
       "      <td>963</td>\n",
       "      <td>0.036228</td>\n",
       "      <td>0.861194</td>\n",
       "    </tr>\n",
       "    <tr>\n",
       "      <th>7</th>\n",
       "      <td>Categoria 8</td>\n",
       "      <td>911</td>\n",
       "      <td>0.034271</td>\n",
       "      <td>0.895547</td>\n",
       "    </tr>\n",
       "    <tr>\n",
       "      <th>8</th>\n",
       "      <td>Categoria 7</td>\n",
       "      <td>751</td>\n",
       "      <td>0.028252</td>\n",
       "      <td>0.923866</td>\n",
       "    </tr>\n",
       "    <tr>\n",
       "      <th>9</th>\n",
       "      <td>Categoria 4</td>\n",
       "      <td>592</td>\n",
       "      <td>0.022271</td>\n",
       "      <td>0.946190</td>\n",
       "    </tr>\n",
       "    <tr>\n",
       "      <th>10</th>\n",
       "      <td>Categoria 5</td>\n",
       "      <td>454</td>\n",
       "      <td>0.017079</td>\n",
       "      <td>0.963309</td>\n",
       "    </tr>\n",
       "    <tr>\n",
       "      <th>11</th>\n",
       "      <td>Categoria 6</td>\n",
       "      <td>331</td>\n",
       "      <td>0.012452</td>\n",
       "      <td>0.975791</td>\n",
       "    </tr>\n",
       "    <tr>\n",
       "      <th>12</th>\n",
       "      <td>Categoria 3</td>\n",
       "      <td>240</td>\n",
       "      <td>0.009029</td>\n",
       "      <td>0.984841</td>\n",
       "    </tr>\n",
       "    <tr>\n",
       "      <th>13</th>\n",
       "      <td>Categoria 2</td>\n",
       "      <td>215</td>\n",
       "      <td>0.008088</td>\n",
       "      <td>0.992948</td>\n",
       "    </tr>\n",
       "    <tr>\n",
       "      <th>14</th>\n",
       "      <td>Categoria 1</td>\n",
       "      <td>187</td>\n",
       "      <td>0.007035</td>\n",
       "      <td>1.000000</td>\n",
       "    </tr>\n",
       "  </tbody>\n",
       "</table>\n",
       "</div>"
      ],
      "text/plain": [
       "   review_scores_location  frequency  percentage  cumulative_perc\n",
       "0            Categoria 15       7838    0.294861         0.295562\n",
       "1            Categoria 12       7286    0.274095         0.570308\n",
       "2            Categoria 14       2355    0.088594         0.659112\n",
       "3            Categoria 13       2202    0.082838         0.742147\n",
       "4            Categoria 10       1131    0.042548         0.784796\n",
       "5             Categoria 9       1063    0.039989         0.824880\n",
       "6            Categoria 11        963    0.036228         0.861194\n",
       "7             Categoria 8        911    0.034271         0.895547\n",
       "8             Categoria 7        751    0.028252         0.923866\n",
       "9             Categoria 4        592    0.022271         0.946190\n",
       "10            Categoria 5        454    0.017079         0.963309\n",
       "11            Categoria 6        331    0.012452         0.975791\n",
       "12            Categoria 3        240    0.009029         0.984841\n",
       "13            Categoria 2        215    0.008088         0.992948\n",
       "14            Categoria 1        187    0.007035         1.000000"
      ]
     },
     "execution_count": 60,
     "metadata": {},
     "output_type": "execute_result"
    }
   ],
   "source": [
    "#obtengo analisis univariado de una variable categorica en especifico   \n",
    "\n",
    "table_scores=freq_tbl(Mexico[\"review_scores_location\"])\n",
    "table_scores"
   ]
  },
  {
   "cell_type": "code",
   "execution_count": 61,
   "metadata": {},
   "outputs": [
    {
     "data": {
      "text/html": [
       "<div>\n",
       "<style scoped>\n",
       "    .dataframe tbody tr th:only-of-type {\n",
       "        vertical-align: middle;\n",
       "    }\n",
       "\n",
       "    .dataframe tbody tr th {\n",
       "        vertical-align: top;\n",
       "    }\n",
       "\n",
       "    .dataframe thead th {\n",
       "        text-align: right;\n",
       "    }\n",
       "</style>\n",
       "<table border=\"1\" class=\"dataframe\">\n",
       "  <thead>\n",
       "    <tr style=\"text-align: right;\">\n",
       "      <th></th>\n",
       "      <th>review_scores_location</th>\n",
       "      <th>frequency</th>\n",
       "    </tr>\n",
       "  </thead>\n",
       "  <tbody>\n",
       "    <tr>\n",
       "      <th>0</th>\n",
       "      <td>Categoria 15</td>\n",
       "      <td>7838</td>\n",
       "    </tr>\n",
       "    <tr>\n",
       "      <th>1</th>\n",
       "      <td>Categoria 12</td>\n",
       "      <td>7286</td>\n",
       "    </tr>\n",
       "    <tr>\n",
       "      <th>2</th>\n",
       "      <td>Categoria 14</td>\n",
       "      <td>2355</td>\n",
       "    </tr>\n",
       "    <tr>\n",
       "      <th>3</th>\n",
       "      <td>Categoria 13</td>\n",
       "      <td>2202</td>\n",
       "    </tr>\n",
       "    <tr>\n",
       "      <th>4</th>\n",
       "      <td>Categoria 10</td>\n",
       "      <td>1131</td>\n",
       "    </tr>\n",
       "    <tr>\n",
       "      <th>5</th>\n",
       "      <td>Categoria 9</td>\n",
       "      <td>1063</td>\n",
       "    </tr>\n",
       "    <tr>\n",
       "      <th>6</th>\n",
       "      <td>Categoria 11</td>\n",
       "      <td>963</td>\n",
       "    </tr>\n",
       "    <tr>\n",
       "      <th>7</th>\n",
       "      <td>Categoria 8</td>\n",
       "      <td>911</td>\n",
       "    </tr>\n",
       "    <tr>\n",
       "      <th>8</th>\n",
       "      <td>Categoria 7</td>\n",
       "      <td>751</td>\n",
       "    </tr>\n",
       "    <tr>\n",
       "      <th>9</th>\n",
       "      <td>Categoria 4</td>\n",
       "      <td>592</td>\n",
       "    </tr>\n",
       "    <tr>\n",
       "      <th>10</th>\n",
       "      <td>Categoria 5</td>\n",
       "      <td>454</td>\n",
       "    </tr>\n",
       "    <tr>\n",
       "      <th>11</th>\n",
       "      <td>Categoria 6</td>\n",
       "      <td>331</td>\n",
       "    </tr>\n",
       "    <tr>\n",
       "      <th>12</th>\n",
       "      <td>Categoria 3</td>\n",
       "      <td>240</td>\n",
       "    </tr>\n",
       "    <tr>\n",
       "      <th>13</th>\n",
       "      <td>Categoria 2</td>\n",
       "      <td>215</td>\n",
       "    </tr>\n",
       "    <tr>\n",
       "      <th>14</th>\n",
       "      <td>Categoria 1</td>\n",
       "      <td>187</td>\n",
       "    </tr>\n",
       "  </tbody>\n",
       "</table>\n",
       "</div>"
      ],
      "text/plain": [
       "   review_scores_location  frequency\n",
       "0            Categoria 15       7838\n",
       "1            Categoria 12       7286\n",
       "2            Categoria 14       2355\n",
       "3            Categoria 13       2202\n",
       "4            Categoria 10       1131\n",
       "5             Categoria 9       1063\n",
       "6            Categoria 11        963\n",
       "7             Categoria 8        911\n",
       "8             Categoria 7        751\n",
       "9             Categoria 4        592\n",
       "10            Categoria 5        454\n",
       "11            Categoria 6        331\n",
       "12            Categoria 3        240\n",
       "13            Categoria 2        215\n",
       "14            Categoria 1        187"
      ]
     },
     "execution_count": 61,
     "metadata": {},
     "output_type": "execute_result"
    }
   ],
   "source": [
    "#elimino las columnas ppercentage y cumulative perc para trabajar con las frecuencias\n",
    "table_scores= table_scores.drop([\"percentage\",\"cumulative_perc\"],axis=1)\n",
    "table_scores"
   ]
  },
  {
   "cell_type": "code",
   "execution_count": 62,
   "metadata": {},
   "outputs": [
    {
     "data": {
      "text/html": [
       "<div>\n",
       "<style scoped>\n",
       "    .dataframe tbody tr th:only-of-type {\n",
       "        vertical-align: middle;\n",
       "    }\n",
       "\n",
       "    .dataframe tbody tr th {\n",
       "        vertical-align: top;\n",
       "    }\n",
       "\n",
       "    .dataframe thead th {\n",
       "        text-align: right;\n",
       "    }\n",
       "</style>\n",
       "<table border=\"1\" class=\"dataframe\">\n",
       "  <thead>\n",
       "    <tr style=\"text-align: right;\">\n",
       "      <th></th>\n",
       "      <th>frequency</th>\n",
       "    </tr>\n",
       "    <tr>\n",
       "      <th>review_scores_location</th>\n",
       "      <th></th>\n",
       "    </tr>\n",
       "  </thead>\n",
       "  <tbody>\n",
       "    <tr>\n",
       "      <th>Categoria 15</th>\n",
       "      <td>7838</td>\n",
       "    </tr>\n",
       "    <tr>\n",
       "      <th>Categoria 12</th>\n",
       "      <td>7286</td>\n",
       "    </tr>\n",
       "    <tr>\n",
       "      <th>Categoria 14</th>\n",
       "      <td>2355</td>\n",
       "    </tr>\n",
       "    <tr>\n",
       "      <th>Categoria 13</th>\n",
       "      <td>2202</td>\n",
       "    </tr>\n",
       "    <tr>\n",
       "      <th>Categoria 10</th>\n",
       "      <td>1131</td>\n",
       "    </tr>\n",
       "    <tr>\n",
       "      <th>Categoria 9</th>\n",
       "      <td>1063</td>\n",
       "    </tr>\n",
       "    <tr>\n",
       "      <th>Categoria 11</th>\n",
       "      <td>963</td>\n",
       "    </tr>\n",
       "    <tr>\n",
       "      <th>Categoria 8</th>\n",
       "      <td>911</td>\n",
       "    </tr>\n",
       "    <tr>\n",
       "      <th>Categoria 7</th>\n",
       "      <td>751</td>\n",
       "    </tr>\n",
       "    <tr>\n",
       "      <th>Categoria 4</th>\n",
       "      <td>592</td>\n",
       "    </tr>\n",
       "    <tr>\n",
       "      <th>Categoria 5</th>\n",
       "      <td>454</td>\n",
       "    </tr>\n",
       "    <tr>\n",
       "      <th>Categoria 6</th>\n",
       "      <td>331</td>\n",
       "    </tr>\n",
       "    <tr>\n",
       "      <th>Categoria 3</th>\n",
       "      <td>240</td>\n",
       "    </tr>\n",
       "    <tr>\n",
       "      <th>Categoria 2</th>\n",
       "      <td>215</td>\n",
       "    </tr>\n",
       "    <tr>\n",
       "      <th>Categoria 1</th>\n",
       "      <td>187</td>\n",
       "    </tr>\n",
       "  </tbody>\n",
       "</table>\n",
       "</div>"
      ],
      "text/plain": [
       "                        frequency\n",
       "review_scores_location           \n",
       "Categoria 15                 7838\n",
       "Categoria 12                 7286\n",
       "Categoria 14                 2355\n",
       "Categoria 13                 2202\n",
       "Categoria 10                 1131\n",
       "Categoria 9                  1063\n",
       "Categoria 11                  963\n",
       "Categoria 8                   911\n",
       "Categoria 7                   751\n",
       "Categoria 4                   592\n",
       "Categoria 5                   454\n",
       "Categoria 6                   331\n",
       "Categoria 3                   240\n",
       "Categoria 2                   215\n",
       "Categoria 1                   187"
      ]
     },
     "execution_count": 62,
     "metadata": {},
     "output_type": "execute_result"
    }
   ],
   "source": [
    "\n",
    "#ajusto indice de mi dataframe\n",
    "table_scores= table_scores.set_index('review_scores_location')\n",
    "table_scores"
   ]
  },
  {
   "cell_type": "code",
   "execution_count": 69,
   "metadata": {},
   "outputs": [
    {
     "data": {
      "text/plain": [
       "Text(0, 0.5, 'Frecuencia')"
      ]
     },
     "execution_count": 69,
     "metadata": {},
     "output_type": "execute_result"
    },
    {
     "data": {
      "image/png": "[encoded data removed]",
      "text/plain": [
       "<Figure size 1000x400 with 1 Axes>"
      ]
     },
     "metadata": {},
     "output_type": "display_data"
    }
   ],
   "source": [
    "table_scores.plot(kind=\"bar\", width=0.8, figsize=(10,4), color= \"orange\")\n",
    "plt.title(\"review_scores_location\")\n",
    "plt.xlabel(\"Categorias\")\n",
    "plt.ylabel(\"Frecuencia\")"
   ]
  },
  {
   "cell_type": "markdown",
   "metadata": {},
   "source": [
    "review_scores_value"
   ]
  },
  {
   "cell_type": "code",
   "execution_count": 70,
   "metadata": {},
   "outputs": [
    {
     "name": "stdout",
     "output_type": "stream",
     "text": [
      "<class 'pandas.core.series.Series'>\n",
      "RangeIndex: 26582 entries, 0 to 26581\n",
      "Series name: review_scores_value\n",
      "Non-Null Count  Dtype  \n",
      "--------------  -----  \n",
      "26582 non-null  float64\n",
      "dtypes: float64(1)\n",
      "memory usage: 207.8 KB\n"
     ]
    }
   ],
   "source": [
    "Mexico[\"review_scores_value\"].info()\n",
    "n=26582"
   ]
  },
  {
   "cell_type": "code",
   "execution_count": 71,
   "metadata": {},
   "outputs": [
    {
     "data": {
      "text/plain": [
       "[4.38, 5.0]"
      ]
     },
     "execution_count": 71,
     "metadata": {},
     "output_type": "execute_result"
    }
   ],
   "source": [
    "#Obtenemos limite superior e inferior\n",
    "Max_value= Mexico[\"review_scores_value\"]. max()\n",
    "Min_value= Mexico[\"review_scores_value\"]. min()\n",
    "Limites_value=[Min_value, Max_value]\n",
    "Limites_value"
   ]
  },
  {
   "cell_type": "code",
   "execution_count": 72,
   "metadata": {},
   "outputs": [
    {
     "data": {
      "text/plain": [
       "0.6200000000000001"
      ]
     },
     "execution_count": 72,
     "metadata": {},
     "output_type": "execute_result"
    }
   ],
   "source": [
    "#Calculamos el RANGO\n",
    "R_value= Max_value-Min_value\n",
    "R_value\n"
   ]
  },
  {
   "cell_type": "code",
   "execution_count": 73,
   "metadata": {},
   "outputs": [
    {
     "data": {
      "text/plain": [
       "15.689631010177528"
      ]
     },
     "execution_count": 73,
     "metadata": {},
     "output_type": "execute_result"
    }
   ],
   "source": [
    "#Calculamos el numero de intervalos de clase\n",
    "ni_value= 1+3.32*np.log10(n)\n",
    "ni_value"
   ]
  },
  {
   "cell_type": "code",
   "execution_count": 74,
   "metadata": {},
   "outputs": [
    {
     "data": {
      "text/plain": [
       "0.03951654437238322"
      ]
     },
     "execution_count": 74,
     "metadata": {},
     "output_type": "execute_result"
    }
   ],
   "source": [
    "#Calculamos el ancho de los intervalos\n",
    "i_value= R_value/ni_value\n",
    "i_value"
   ]
  },
  {
   "cell_type": "code",
   "execution_count": 75,
   "metadata": {},
   "outputs": [
    {
     "data": {
      "text/plain": [
       "array([4.38      , 4.42133333, 4.46266667, 4.504     , 4.54533333,\n",
       "       4.58666667, 4.628     , 4.66933333, 4.71066667, 4.752     ,\n",
       "       4.79333333, 4.83466667, 4.876     , 4.91733333, 4.95866667,\n",
       "       5.        ])"
      ]
     },
     "execution_count": 75,
     "metadata": {},
     "output_type": "execute_result"
    }
   ],
   "source": [
    "\n",
    "#Categorizacion de variables\n",
    "intervalos_value=np.linspace(Min_value, Max_value, 16)\n",
    "intervalos_value"
   ]
  },
  {
   "cell_type": "code",
   "execution_count": 76,
   "metadata": {},
   "outputs": [],
   "source": [
    "#Creamos las categorias\n",
    "categorias_value= [\"Categoria 1\", \"Categoria 2\", \"Categoria 3\", \n",
    "                 \"Categoria 4\", \"Categoria 5\", \"Categoria 6\", \n",
    "                 \"Categoria 7\", \"Categoria 8\", \"Categoria 9\",\n",
    "                 \"Categoria 10\", \"Categoria 11\",\"Categoria 12\",\n",
    "                 \"Categoria 13\", \"Categoria 14\", \"Categoria 15\"]"
   ]
  },
  {
   "cell_type": "code",
   "execution_count": 77,
   "metadata": {},
   "outputs": [
    {
     "data": {
      "text/plain": [
       "0         Categoria 8\n",
       "1         Categoria 3\n",
       "2        Categoria 13\n",
       "3        Categoria 14\n",
       "4        Categoria 11\n",
       "             ...     \n",
       "26577     Categoria 8\n",
       "26578     Categoria 8\n",
       "26579     Categoria 8\n",
       "26580     Categoria 8\n",
       "26581     Categoria 8\n",
       "Name: review_scores_value, Length: 26582, dtype: category\n",
       "Categories (15, object): ['Categoria 1' < 'Categoria 2' < 'Categoria 3' < 'Categoria 4' ... 'Categoria 12' < 'Categoria 13' < 'Categoria 14' < 'Categoria 15']"
      ]
     },
     "execution_count": 77,
     "metadata": {},
     "output_type": "execute_result"
    }
   ],
   "source": [
    "#Finalmente creamos las categorias en la columna numerica\n",
    "Mexico[\"review_scores_value\"]= pd.cut(x=Mexico[\"review_scores_value\"], bins=intervalos_value, labels=categorias_value)\n",
    "Mexico[\"review_scores_value\"]"
   ]
  },
  {
   "cell_type": "code",
   "execution_count": 78,
   "metadata": {},
   "outputs": [
    {
     "data": {
      "text/html": [
       "<div>\n",
       "<style scoped>\n",
       "    .dataframe tbody tr th:only-of-type {\n",
       "        vertical-align: middle;\n",
       "    }\n",
       "\n",
       "    .dataframe tbody tr th {\n",
       "        vertical-align: top;\n",
       "    }\n",
       "\n",
       "    .dataframe thead th {\n",
       "        text-align: right;\n",
       "    }\n",
       "</style>\n",
       "<table border=\"1\" class=\"dataframe\">\n",
       "  <thead>\n",
       "    <tr style=\"text-align: right;\">\n",
       "      <th></th>\n",
       "      <th>review_scores_value</th>\n",
       "      <th>frequency</th>\n",
       "      <th>percentage</th>\n",
       "      <th>cumulative_perc</th>\n",
       "    </tr>\n",
       "  </thead>\n",
       "  <tbody>\n",
       "    <tr>\n",
       "      <th>0</th>\n",
       "      <td>Categoria 8</td>\n",
       "      <td>5524</td>\n",
       "      <td>0.207810</td>\n",
       "      <td>0.208398</td>\n",
       "    </tr>\n",
       "    <tr>\n",
       "      <th>1</th>\n",
       "      <td>Categoria 15</td>\n",
       "      <td>4664</td>\n",
       "      <td>0.175457</td>\n",
       "      <td>0.384351</td>\n",
       "    </tr>\n",
       "    <tr>\n",
       "      <th>2</th>\n",
       "      <td>Categoria 11</td>\n",
       "      <td>4111</td>\n",
       "      <td>0.154654</td>\n",
       "      <td>0.539442</td>\n",
       "    </tr>\n",
       "    <tr>\n",
       "      <th>3</th>\n",
       "      <td>Categoria 13</td>\n",
       "      <td>2051</td>\n",
       "      <td>0.077157</td>\n",
       "      <td>0.616818</td>\n",
       "    </tr>\n",
       "    <tr>\n",
       "      <th>4</th>\n",
       "      <td>Categoria 12</td>\n",
       "      <td>1913</td>\n",
       "      <td>0.071966</td>\n",
       "      <td>0.688988</td>\n",
       "    </tr>\n",
       "    <tr>\n",
       "      <th>5</th>\n",
       "      <td>Categoria 10</td>\n",
       "      <td>1683</td>\n",
       "      <td>0.063314</td>\n",
       "      <td>0.752480</td>\n",
       "    </tr>\n",
       "    <tr>\n",
       "      <th>6</th>\n",
       "      <td>Categoria 9</td>\n",
       "      <td>1544</td>\n",
       "      <td>0.058084</td>\n",
       "      <td>0.810729</td>\n",
       "    </tr>\n",
       "    <tr>\n",
       "      <th>7</th>\n",
       "      <td>Categoria 14</td>\n",
       "      <td>1465</td>\n",
       "      <td>0.055112</td>\n",
       "      <td>0.865998</td>\n",
       "    </tr>\n",
       "    <tr>\n",
       "      <th>8</th>\n",
       "      <td>Categoria 7</td>\n",
       "      <td>785</td>\n",
       "      <td>0.029531</td>\n",
       "      <td>0.895612</td>\n",
       "    </tr>\n",
       "    <tr>\n",
       "      <th>9</th>\n",
       "      <td>Categoria 6</td>\n",
       "      <td>706</td>\n",
       "      <td>0.026559</td>\n",
       "      <td>0.922247</td>\n",
       "    </tr>\n",
       "    <tr>\n",
       "      <th>10</th>\n",
       "      <td>Categoria 3</td>\n",
       "      <td>699</td>\n",
       "      <td>0.026296</td>\n",
       "      <td>0.948617</td>\n",
       "    </tr>\n",
       "    <tr>\n",
       "      <th>11</th>\n",
       "      <td>Categoria 5</td>\n",
       "      <td>572</td>\n",
       "      <td>0.021518</td>\n",
       "      <td>0.970197</td>\n",
       "    </tr>\n",
       "    <tr>\n",
       "      <th>12</th>\n",
       "      <td>Categoria 2</td>\n",
       "      <td>297</td>\n",
       "      <td>0.011173</td>\n",
       "      <td>0.981401</td>\n",
       "    </tr>\n",
       "    <tr>\n",
       "      <th>13</th>\n",
       "      <td>Categoria 4</td>\n",
       "      <td>286</td>\n",
       "      <td>0.010759</td>\n",
       "      <td>0.992191</td>\n",
       "    </tr>\n",
       "    <tr>\n",
       "      <th>14</th>\n",
       "      <td>Categoria 1</td>\n",
       "      <td>207</td>\n",
       "      <td>0.007787</td>\n",
       "      <td>1.000000</td>\n",
       "    </tr>\n",
       "  </tbody>\n",
       "</table>\n",
       "</div>"
      ],
      "text/plain": [
       "   review_scores_value  frequency  percentage  cumulative_perc\n",
       "0          Categoria 8       5524    0.207810         0.208398\n",
       "1         Categoria 15       4664    0.175457         0.384351\n",
       "2         Categoria 11       4111    0.154654         0.539442\n",
       "3         Categoria 13       2051    0.077157         0.616818\n",
       "4         Categoria 12       1913    0.071966         0.688988\n",
       "5         Categoria 10       1683    0.063314         0.752480\n",
       "6          Categoria 9       1544    0.058084         0.810729\n",
       "7         Categoria 14       1465    0.055112         0.865998\n",
       "8          Categoria 7        785    0.029531         0.895612\n",
       "9          Categoria 6        706    0.026559         0.922247\n",
       "10         Categoria 3        699    0.026296         0.948617\n",
       "11         Categoria 5        572    0.021518         0.970197\n",
       "12         Categoria 2        297    0.011173         0.981401\n",
       "13         Categoria 4        286    0.010759         0.992191\n",
       "14         Categoria 1        207    0.007787         1.000000"
      ]
     },
     "execution_count": 78,
     "metadata": {},
     "output_type": "execute_result"
    }
   ],
   "source": [
    "#obtengo analisis univariado de una variable categorica en especifico   \n",
    "\n",
    "table_value=freq_tbl(Mexico[\"review_scores_value\"])\n",
    "table_value"
   ]
  },
  {
   "cell_type": "code",
   "execution_count": 79,
   "metadata": {},
   "outputs": [
    {
     "data": {
      "text/html": [
       "<div>\n",
       "<style scoped>\n",
       "    .dataframe tbody tr th:only-of-type {\n",
       "        vertical-align: middle;\n",
       "    }\n",
       "\n",
       "    .dataframe tbody tr th {\n",
       "        vertical-align: top;\n",
       "    }\n",
       "\n",
       "    .dataframe thead th {\n",
       "        text-align: right;\n",
       "    }\n",
       "</style>\n",
       "<table border=\"1\" class=\"dataframe\">\n",
       "  <thead>\n",
       "    <tr style=\"text-align: right;\">\n",
       "      <th></th>\n",
       "      <th>review_scores_value</th>\n",
       "      <th>frequency</th>\n",
       "    </tr>\n",
       "  </thead>\n",
       "  <tbody>\n",
       "    <tr>\n",
       "      <th>0</th>\n",
       "      <td>Categoria 8</td>\n",
       "      <td>5524</td>\n",
       "    </tr>\n",
       "    <tr>\n",
       "      <th>1</th>\n",
       "      <td>Categoria 15</td>\n",
       "      <td>4664</td>\n",
       "    </tr>\n",
       "    <tr>\n",
       "      <th>2</th>\n",
       "      <td>Categoria 11</td>\n",
       "      <td>4111</td>\n",
       "    </tr>\n",
       "    <tr>\n",
       "      <th>3</th>\n",
       "      <td>Categoria 13</td>\n",
       "      <td>2051</td>\n",
       "    </tr>\n",
       "    <tr>\n",
       "      <th>4</th>\n",
       "      <td>Categoria 12</td>\n",
       "      <td>1913</td>\n",
       "    </tr>\n",
       "    <tr>\n",
       "      <th>5</th>\n",
       "      <td>Categoria 10</td>\n",
       "      <td>1683</td>\n",
       "    </tr>\n",
       "    <tr>\n",
       "      <th>6</th>\n",
       "      <td>Categoria 9</td>\n",
       "      <td>1544</td>\n",
       "    </tr>\n",
       "    <tr>\n",
       "      <th>7</th>\n",
       "      <td>Categoria 14</td>\n",
       "      <td>1465</td>\n",
       "    </tr>\n",
       "    <tr>\n",
       "      <th>8</th>\n",
       "      <td>Categoria 7</td>\n",
       "      <td>785</td>\n",
       "    </tr>\n",
       "    <tr>\n",
       "      <th>9</th>\n",
       "      <td>Categoria 6</td>\n",
       "      <td>706</td>\n",
       "    </tr>\n",
       "    <tr>\n",
       "      <th>10</th>\n",
       "      <td>Categoria 3</td>\n",
       "      <td>699</td>\n",
       "    </tr>\n",
       "    <tr>\n",
       "      <th>11</th>\n",
       "      <td>Categoria 5</td>\n",
       "      <td>572</td>\n",
       "    </tr>\n",
       "    <tr>\n",
       "      <th>12</th>\n",
       "      <td>Categoria 2</td>\n",
       "      <td>297</td>\n",
       "    </tr>\n",
       "    <tr>\n",
       "      <th>13</th>\n",
       "      <td>Categoria 4</td>\n",
       "      <td>286</td>\n",
       "    </tr>\n",
       "    <tr>\n",
       "      <th>14</th>\n",
       "      <td>Categoria 1</td>\n",
       "      <td>207</td>\n",
       "    </tr>\n",
       "  </tbody>\n",
       "</table>\n",
       "</div>"
      ],
      "text/plain": [
       "   review_scores_value  frequency\n",
       "0          Categoria 8       5524\n",
       "1         Categoria 15       4664\n",
       "2         Categoria 11       4111\n",
       "3         Categoria 13       2051\n",
       "4         Categoria 12       1913\n",
       "5         Categoria 10       1683\n",
       "6          Categoria 9       1544\n",
       "7         Categoria 14       1465\n",
       "8          Categoria 7        785\n",
       "9          Categoria 6        706\n",
       "10         Categoria 3        699\n",
       "11         Categoria 5        572\n",
       "12         Categoria 2        297\n",
       "13         Categoria 4        286\n",
       "14         Categoria 1        207"
      ]
     },
     "execution_count": 79,
     "metadata": {},
     "output_type": "execute_result"
    }
   ],
   "source": [
    "#elimino las columnas ppercentage y cumulative perc para trabajar con las frecuencias\n",
    "table_value= table_value.drop([\"percentage\",\"cumulative_perc\"],axis=1)\n",
    "table_value"
   ]
  },
  {
   "cell_type": "code",
   "execution_count": 80,
   "metadata": {},
   "outputs": [
    {
     "data": {
      "text/html": [
       "<div>\n",
       "<style scoped>\n",
       "    .dataframe tbody tr th:only-of-type {\n",
       "        vertical-align: middle;\n",
       "    }\n",
       "\n",
       "    .dataframe tbody tr th {\n",
       "        vertical-align: top;\n",
       "    }\n",
       "\n",
       "    .dataframe thead th {\n",
       "        text-align: right;\n",
       "    }\n",
       "</style>\n",
       "<table border=\"1\" class=\"dataframe\">\n",
       "  <thead>\n",
       "    <tr style=\"text-align: right;\">\n",
       "      <th></th>\n",
       "      <th>frequency</th>\n",
       "    </tr>\n",
       "    <tr>\n",
       "      <th>review_scores_value</th>\n",
       "      <th></th>\n",
       "    </tr>\n",
       "  </thead>\n",
       "  <tbody>\n",
       "    <tr>\n",
       "      <th>Categoria 8</th>\n",
       "      <td>5524</td>\n",
       "    </tr>\n",
       "    <tr>\n",
       "      <th>Categoria 15</th>\n",
       "      <td>4664</td>\n",
       "    </tr>\n",
       "    <tr>\n",
       "      <th>Categoria 11</th>\n",
       "      <td>4111</td>\n",
       "    </tr>\n",
       "    <tr>\n",
       "      <th>Categoria 13</th>\n",
       "      <td>2051</td>\n",
       "    </tr>\n",
       "    <tr>\n",
       "      <th>Categoria 12</th>\n",
       "      <td>1913</td>\n",
       "    </tr>\n",
       "    <tr>\n",
       "      <th>Categoria 10</th>\n",
       "      <td>1683</td>\n",
       "    </tr>\n",
       "    <tr>\n",
       "      <th>Categoria 9</th>\n",
       "      <td>1544</td>\n",
       "    </tr>\n",
       "    <tr>\n",
       "      <th>Categoria 14</th>\n",
       "      <td>1465</td>\n",
       "    </tr>\n",
       "    <tr>\n",
       "      <th>Categoria 7</th>\n",
       "      <td>785</td>\n",
       "    </tr>\n",
       "    <tr>\n",
       "      <th>Categoria 6</th>\n",
       "      <td>706</td>\n",
       "    </tr>\n",
       "    <tr>\n",
       "      <th>Categoria 3</th>\n",
       "      <td>699</td>\n",
       "    </tr>\n",
       "    <tr>\n",
       "      <th>Categoria 5</th>\n",
       "      <td>572</td>\n",
       "    </tr>\n",
       "    <tr>\n",
       "      <th>Categoria 2</th>\n",
       "      <td>297</td>\n",
       "    </tr>\n",
       "    <tr>\n",
       "      <th>Categoria 4</th>\n",
       "      <td>286</td>\n",
       "    </tr>\n",
       "    <tr>\n",
       "      <th>Categoria 1</th>\n",
       "      <td>207</td>\n",
       "    </tr>\n",
       "  </tbody>\n",
       "</table>\n",
       "</div>"
      ],
      "text/plain": [
       "                     frequency\n",
       "review_scores_value           \n",
       "Categoria 8               5524\n",
       "Categoria 15              4664\n",
       "Categoria 11              4111\n",
       "Categoria 13              2051\n",
       "Categoria 12              1913\n",
       "Categoria 10              1683\n",
       "Categoria 9               1544\n",
       "Categoria 14              1465\n",
       "Categoria 7                785\n",
       "Categoria 6                706\n",
       "Categoria 3                699\n",
       "Categoria 5                572\n",
       "Categoria 2                297\n",
       "Categoria 4                286\n",
       "Categoria 1                207"
      ]
     },
     "execution_count": 80,
     "metadata": {},
     "output_type": "execute_result"
    }
   ],
   "source": [
    "#ajusto indice de mi dataframe\n",
    "table_value= table_value.set_index('review_scores_value')\n",
    "table_value"
   ]
  },
  {
   "cell_type": "code",
   "execution_count": 81,
   "metadata": {},
   "outputs": [
    {
     "data": {
      "text/plain": [
       "Text(0, 0.5, 'Frecuencia')"
      ]
     },
     "execution_count": 81,
     "metadata": {},
     "output_type": "execute_result"
    },
    {
     "data": {
      "image/png": "[encoded data removed]",
      "text/plain": [
       "<Figure size 1000x400 with 1 Axes>"
      ]
     },
     "metadata": {},
     "output_type": "display_data"
    }
   ],
   "source": [
    "table_value.plot(kind=\"bar\", width=0.8, figsize=(10,4), color= \"gray\")\n",
    "plt.title(\"review_scores_value\")\n",
    "plt.xlabel(\"Categorias\")\n",
    "plt.ylabel(\"Frecuencia\")"
   ]
  },
  {
   "cell_type": "markdown",
   "metadata": {},
   "source": [
    "reviews_per_month"
   ]
  },
  {
   "cell_type": "code",
   "execution_count": 124,
   "metadata": {},
   "outputs": [
    {
     "name": "stdout",
     "output_type": "stream",
     "text": [
      "<class 'pandas.core.series.Series'>\n",
      "RangeIndex: 26582 entries, 0 to 26581\n",
      "Series name: reviews_per_month\n",
      "Non-Null Count  Dtype  \n",
      "--------------  -----  \n",
      "26582 non-null  float64\n",
      "dtypes: float64(1)\n",
      "memory usage: 207.8 KB\n"
     ]
    }
   ],
   "source": [
    "Mexico[\"reviews_per_month\"].info()\n",
    "n=26582"
   ]
  },
  {
   "cell_type": "code",
   "execution_count": 125,
   "metadata": {},
   "outputs": [
    {
     "data": {
      "text/plain": [
       "[0.01, 4.72]"
      ]
     },
     "execution_count": 125,
     "metadata": {},
     "output_type": "execute_result"
    }
   ],
   "source": [
    "#Obtenemos limite superior e inferior\n",
    "Max_reviews_per_month = Mexico[\"reviews_per_month\"].max()\n",
    "Min_reviews_per_month = Mexico[\"reviews_per_month\"].min()\n",
    "Limites_reviews_per_month = [Min_reviews_per_month, Max_reviews_per_month]\n",
    "Limites_reviews_per_month"
   ]
  },
  {
   "cell_type": "code",
   "execution_count": 126,
   "metadata": {},
   "outputs": [
    {
     "data": {
      "text/plain": [
       "4.71"
      ]
     },
     "execution_count": 126,
     "metadata": {},
     "output_type": "execute_result"
    }
   ],
   "source": [
    "# Calculamos el RANGO para \"reviews_per_month\"\n",
    "R_reviews_per_month = Max_reviews_per_month - Min_reviews_per_month\n",
    "R_reviews_per_month"
   ]
  },
  {
   "cell_type": "code",
   "execution_count": 127,
   "metadata": {},
   "outputs": [
    {
     "data": {
      "text/plain": [
       "15.689631010177528"
      ]
     },
     "execution_count": 127,
     "metadata": {},
     "output_type": "execute_result"
    }
   ],
   "source": [
    "# Calculamos el número de intervalos de clase para \"reviews_per_month\"\n",
    "ni_reviews_per_month = 1 + 3.32 * np.log10(n)\n",
    "ni_reviews_per_month"
   ]
  },
  {
   "cell_type": "code",
   "execution_count": 128,
   "metadata": {},
   "outputs": [
    {
     "data": {
      "text/plain": [
       "0.3001982645063306"
      ]
     },
     "execution_count": 128,
     "metadata": {},
     "output_type": "execute_result"
    }
   ],
   "source": [
    "# Calculamos el ancho de los intervalos para \"reviews_per_month\"\n",
    "i_reviews_per_month = R_reviews_per_month / ni_reviews_per_month\n",
    "i_reviews_per_month"
   ]
  },
  {
   "cell_type": "code",
   "execution_count": 129,
   "metadata": {},
   "outputs": [
    {
     "data": {
      "text/plain": [
       "array([0.01 , 0.324, 0.638, 0.952, 1.266, 1.58 , 1.894, 2.208, 2.522,\n",
       "       2.836, 3.15 , 3.464, 3.778, 4.092, 4.406, 4.72 ])"
      ]
     },
     "execution_count": 129,
     "metadata": {},
     "output_type": "execute_result"
    }
   ],
   "source": [
    "# Categorización de la variable \"reviews_per_month\"\n",
    "intervalos_reviews_per_month = np.linspace(Min_reviews_per_month, Max_reviews_per_month, 16)\n",
    "intervalos_reviews_per_month"
   ]
  },
  {
   "cell_type": "code",
   "execution_count": 130,
   "metadata": {},
   "outputs": [],
   "source": [
    "# Creamos las categorías para \"reviews_per_month\"\n",
    "categorias_reviews_per_month = [\"Categoria 1\", \"Categoria 2\", \"Categoria 3\", \n",
    "                                \"Categoria 4\", \"Categoria 5\", \"Categoria 6\", \n",
    "                                \"Categoria 7\", \"Categoria 8\", \"Categoria 9\",\n",
    "                                \"Categoria 10\", \"Categoria 11\", \"Categoria 12\",\n",
    "                                \"Categoria 13\", \"Categoria 14\", \"Categoria 15\"]"
   ]
  },
  {
   "cell_type": "code",
   "execution_count": 131,
   "metadata": {},
   "outputs": [
    {
     "data": {
      "text/plain": [
       "0        Categoria 4\n",
       "1        Categoria 2\n",
       "2        Categoria 1\n",
       "3        Categoria 3\n",
       "4        Categoria 1\n",
       "            ...     \n",
       "26577    Categoria 4\n",
       "26578    Categoria 4\n",
       "26579    Categoria 4\n",
       "26580    Categoria 4\n",
       "26581    Categoria 4\n",
       "Name: reviews_per_month, Length: 26582, dtype: category\n",
       "Categories (15, object): ['Categoria 1' < 'Categoria 2' < 'Categoria 3' < 'Categoria 4' ... 'Categoria 12' < 'Categoria 13' < 'Categoria 14' < 'Categoria 15']"
      ]
     },
     "execution_count": 131,
     "metadata": {},
     "output_type": "execute_result"
    }
   ],
   "source": [
    "#Finalmente creamos las categorias en la columna numerica\n",
    "Mexico[\"reviews_per_month\"]= pd.cut(x=Mexico[\"reviews_per_month\"], bins=intervalos_reviews_per_month, labels=categorias_reviews_per_month)\n",
    "Mexico[\"reviews_per_month\"]"
   ]
  },
  {
   "cell_type": "code",
   "execution_count": 132,
   "metadata": {},
   "outputs": [
    {
     "data": {
      "text/html": [
       "<div>\n",
       "<style scoped>\n",
       "    .dataframe tbody tr th:only-of-type {\n",
       "        vertical-align: middle;\n",
       "    }\n",
       "\n",
       "    .dataframe tbody tr th {\n",
       "        vertical-align: top;\n",
       "    }\n",
       "\n",
       "    .dataframe thead th {\n",
       "        text-align: right;\n",
       "    }\n",
       "</style>\n",
       "<table border=\"1\" class=\"dataframe\">\n",
       "  <thead>\n",
       "    <tr style=\"text-align: right;\">\n",
       "      <th></th>\n",
       "      <th>reviews_per_month</th>\n",
       "      <th>frequency</th>\n",
       "      <th>percentage</th>\n",
       "      <th>cumulative_perc</th>\n",
       "    </tr>\n",
       "  </thead>\n",
       "  <tbody>\n",
       "    <tr>\n",
       "      <th>0</th>\n",
       "      <td>Categoria 4</td>\n",
       "      <td>5771</td>\n",
       "      <td>0.217102</td>\n",
       "      <td>0.217642</td>\n",
       "    </tr>\n",
       "    <tr>\n",
       "      <th>1</th>\n",
       "      <td>Categoria 1</td>\n",
       "      <td>4634</td>\n",
       "      <td>0.174328</td>\n",
       "      <td>0.392405</td>\n",
       "    </tr>\n",
       "    <tr>\n",
       "      <th>2</th>\n",
       "      <td>Categoria 5</td>\n",
       "      <td>3052</td>\n",
       "      <td>0.114815</td>\n",
       "      <td>0.507505</td>\n",
       "    </tr>\n",
       "    <tr>\n",
       "      <th>3</th>\n",
       "      <td>Categoria 2</td>\n",
       "      <td>2937</td>\n",
       "      <td>0.110488</td>\n",
       "      <td>0.618268</td>\n",
       "    </tr>\n",
       "    <tr>\n",
       "      <th>4</th>\n",
       "      <td>Categoria 3</td>\n",
       "      <td>2309</td>\n",
       "      <td>0.086863</td>\n",
       "      <td>0.705348</td>\n",
       "    </tr>\n",
       "    <tr>\n",
       "      <th>5</th>\n",
       "      <td>Categoria 7</td>\n",
       "      <td>1314</td>\n",
       "      <td>0.049432</td>\n",
       "      <td>0.754903</td>\n",
       "    </tr>\n",
       "    <tr>\n",
       "      <th>6</th>\n",
       "      <td>Categoria 6</td>\n",
       "      <td>1310</td>\n",
       "      <td>0.049281</td>\n",
       "      <td>0.804307</td>\n",
       "    </tr>\n",
       "    <tr>\n",
       "      <th>7</th>\n",
       "      <td>Categoria 8</td>\n",
       "      <td>1087</td>\n",
       "      <td>0.040892</td>\n",
       "      <td>0.845301</td>\n",
       "    </tr>\n",
       "    <tr>\n",
       "      <th>8</th>\n",
       "      <td>Categoria 9</td>\n",
       "      <td>893</td>\n",
       "      <td>0.033594</td>\n",
       "      <td>0.878979</td>\n",
       "    </tr>\n",
       "    <tr>\n",
       "      <th>9</th>\n",
       "      <td>Categoria 10</td>\n",
       "      <td>848</td>\n",
       "      <td>0.031901</td>\n",
       "      <td>0.910959</td>\n",
       "    </tr>\n",
       "    <tr>\n",
       "      <th>10</th>\n",
       "      <td>Categoria 11</td>\n",
       "      <td>697</td>\n",
       "      <td>0.026221</td>\n",
       "      <td>0.937245</td>\n",
       "    </tr>\n",
       "    <tr>\n",
       "      <th>11</th>\n",
       "      <td>Categoria 12</td>\n",
       "      <td>504</td>\n",
       "      <td>0.018960</td>\n",
       "      <td>0.956253</td>\n",
       "    </tr>\n",
       "    <tr>\n",
       "      <th>12</th>\n",
       "      <td>Categoria 13</td>\n",
       "      <td>499</td>\n",
       "      <td>0.018772</td>\n",
       "      <td>0.975072</td>\n",
       "    </tr>\n",
       "    <tr>\n",
       "      <th>13</th>\n",
       "      <td>Categoria 14</td>\n",
       "      <td>349</td>\n",
       "      <td>0.013129</td>\n",
       "      <td>0.988234</td>\n",
       "    </tr>\n",
       "    <tr>\n",
       "      <th>14</th>\n",
       "      <td>Categoria 15</td>\n",
       "      <td>312</td>\n",
       "      <td>0.011737</td>\n",
       "      <td>1.000000</td>\n",
       "    </tr>\n",
       "  </tbody>\n",
       "</table>\n",
       "</div>"
      ],
      "text/plain": [
       "   reviews_per_month  frequency  percentage  cumulative_perc\n",
       "0        Categoria 4       5771    0.217102         0.217642\n",
       "1        Categoria 1       4634    0.174328         0.392405\n",
       "2        Categoria 5       3052    0.114815         0.507505\n",
       "3        Categoria 2       2937    0.110488         0.618268\n",
       "4        Categoria 3       2309    0.086863         0.705348\n",
       "5        Categoria 7       1314    0.049432         0.754903\n",
       "6        Categoria 6       1310    0.049281         0.804307\n",
       "7        Categoria 8       1087    0.040892         0.845301\n",
       "8        Categoria 9        893    0.033594         0.878979\n",
       "9       Categoria 10        848    0.031901         0.910959\n",
       "10      Categoria 11        697    0.026221         0.937245\n",
       "11      Categoria 12        504    0.018960         0.956253\n",
       "12      Categoria 13        499    0.018772         0.975072\n",
       "13      Categoria 14        349    0.013129         0.988234\n",
       "14      Categoria 15        312    0.011737         1.000000"
      ]
     },
     "execution_count": 132,
     "metadata": {},
     "output_type": "execute_result"
    }
   ],
   "source": [
    "#obtengo analisis univariado de una variable categorica en especifico   \n",
    "\n",
    "table_reviews_per_month=freq_tbl(Mexico[\"reviews_per_month\"])\n",
    "table_reviews_per_month"
   ]
  },
  {
   "cell_type": "code",
   "execution_count": 133,
   "metadata": {},
   "outputs": [
    {
     "data": {
      "text/html": [
       "<div>\n",
       "<style scoped>\n",
       "    .dataframe tbody tr th:only-of-type {\n",
       "        vertical-align: middle;\n",
       "    }\n",
       "\n",
       "    .dataframe tbody tr th {\n",
       "        vertical-align: top;\n",
       "    }\n",
       "\n",
       "    .dataframe thead th {\n",
       "        text-align: right;\n",
       "    }\n",
       "</style>\n",
       "<table border=\"1\" class=\"dataframe\">\n",
       "  <thead>\n",
       "    <tr style=\"text-align: right;\">\n",
       "      <th></th>\n",
       "      <th>reviews_per_month</th>\n",
       "      <th>frequency</th>\n",
       "    </tr>\n",
       "  </thead>\n",
       "  <tbody>\n",
       "    <tr>\n",
       "      <th>0</th>\n",
       "      <td>Categoria 4</td>\n",
       "      <td>5771</td>\n",
       "    </tr>\n",
       "    <tr>\n",
       "      <th>1</th>\n",
       "      <td>Categoria 1</td>\n",
       "      <td>4634</td>\n",
       "    </tr>\n",
       "    <tr>\n",
       "      <th>2</th>\n",
       "      <td>Categoria 5</td>\n",
       "      <td>3052</td>\n",
       "    </tr>\n",
       "    <tr>\n",
       "      <th>3</th>\n",
       "      <td>Categoria 2</td>\n",
       "      <td>2937</td>\n",
       "    </tr>\n",
       "    <tr>\n",
       "      <th>4</th>\n",
       "      <td>Categoria 3</td>\n",
       "      <td>2309</td>\n",
       "    </tr>\n",
       "    <tr>\n",
       "      <th>5</th>\n",
       "      <td>Categoria 7</td>\n",
       "      <td>1314</td>\n",
       "    </tr>\n",
       "    <tr>\n",
       "      <th>6</th>\n",
       "      <td>Categoria 6</td>\n",
       "      <td>1310</td>\n",
       "    </tr>\n",
       "    <tr>\n",
       "      <th>7</th>\n",
       "      <td>Categoria 8</td>\n",
       "      <td>1087</td>\n",
       "    </tr>\n",
       "    <tr>\n",
       "      <th>8</th>\n",
       "      <td>Categoria 9</td>\n",
       "      <td>893</td>\n",
       "    </tr>\n",
       "    <tr>\n",
       "      <th>9</th>\n",
       "      <td>Categoria 10</td>\n",
       "      <td>848</td>\n",
       "    </tr>\n",
       "    <tr>\n",
       "      <th>10</th>\n",
       "      <td>Categoria 11</td>\n",
       "      <td>697</td>\n",
       "    </tr>\n",
       "    <tr>\n",
       "      <th>11</th>\n",
       "      <td>Categoria 12</td>\n",
       "      <td>504</td>\n",
       "    </tr>\n",
       "    <tr>\n",
       "      <th>12</th>\n",
       "      <td>Categoria 13</td>\n",
       "      <td>499</td>\n",
       "    </tr>\n",
       "    <tr>\n",
       "      <th>13</th>\n",
       "      <td>Categoria 14</td>\n",
       "      <td>349</td>\n",
       "    </tr>\n",
       "    <tr>\n",
       "      <th>14</th>\n",
       "      <td>Categoria 15</td>\n",
       "      <td>312</td>\n",
       "    </tr>\n",
       "  </tbody>\n",
       "</table>\n",
       "</div>"
      ],
      "text/plain": [
       "   reviews_per_month  frequency\n",
       "0        Categoria 4       5771\n",
       "1        Categoria 1       4634\n",
       "2        Categoria 5       3052\n",
       "3        Categoria 2       2937\n",
       "4        Categoria 3       2309\n",
       "5        Categoria 7       1314\n",
       "6        Categoria 6       1310\n",
       "7        Categoria 8       1087\n",
       "8        Categoria 9        893\n",
       "9       Categoria 10        848\n",
       "10      Categoria 11        697\n",
       "11      Categoria 12        504\n",
       "12      Categoria 13        499\n",
       "13      Categoria 14        349\n",
       "14      Categoria 15        312"
      ]
     },
     "execution_count": 133,
     "metadata": {},
     "output_type": "execute_result"
    }
   ],
   "source": [
    "#elimino las columnas ppercentage y cumulative perc para trabajar con las frecuencias\n",
    "table_reviews_per_month= table_reviews_per_month.drop([\"percentage\",\"cumulative_perc\"],axis=1)\n",
    "table_reviews_per_month"
   ]
  },
  {
   "cell_type": "code",
   "execution_count": 137,
   "metadata": {},
   "outputs": [
    {
     "data": {
      "text/html": [
       "<div>\n",
       "<style scoped>\n",
       "    .dataframe tbody tr th:only-of-type {\n",
       "        vertical-align: middle;\n",
       "    }\n",
       "\n",
       "    .dataframe tbody tr th {\n",
       "        vertical-align: top;\n",
       "    }\n",
       "\n",
       "    .dataframe thead th {\n",
       "        text-align: right;\n",
       "    }\n",
       "</style>\n",
       "<table border=\"1\" class=\"dataframe\">\n",
       "  <thead>\n",
       "    <tr style=\"text-align: right;\">\n",
       "      <th></th>\n",
       "      <th>frequency</th>\n",
       "    </tr>\n",
       "    <tr>\n",
       "      <th>reviews_per_month</th>\n",
       "      <th></th>\n",
       "    </tr>\n",
       "  </thead>\n",
       "  <tbody>\n",
       "    <tr>\n",
       "      <th>Categoria 4</th>\n",
       "      <td>5771</td>\n",
       "    </tr>\n",
       "    <tr>\n",
       "      <th>Categoria 1</th>\n",
       "      <td>4634</td>\n",
       "    </tr>\n",
       "    <tr>\n",
       "      <th>Categoria 5</th>\n",
       "      <td>3052</td>\n",
       "    </tr>\n",
       "    <tr>\n",
       "      <th>Categoria 2</th>\n",
       "      <td>2937</td>\n",
       "    </tr>\n",
       "    <tr>\n",
       "      <th>Categoria 3</th>\n",
       "      <td>2309</td>\n",
       "    </tr>\n",
       "    <tr>\n",
       "      <th>Categoria 7</th>\n",
       "      <td>1314</td>\n",
       "    </tr>\n",
       "    <tr>\n",
       "      <th>Categoria 6</th>\n",
       "      <td>1310</td>\n",
       "    </tr>\n",
       "    <tr>\n",
       "      <th>Categoria 8</th>\n",
       "      <td>1087</td>\n",
       "    </tr>\n",
       "    <tr>\n",
       "      <th>Categoria 9</th>\n",
       "      <td>893</td>\n",
       "    </tr>\n",
       "    <tr>\n",
       "      <th>Categoria 10</th>\n",
       "      <td>848</td>\n",
       "    </tr>\n",
       "    <tr>\n",
       "      <th>Categoria 11</th>\n",
       "      <td>697</td>\n",
       "    </tr>\n",
       "    <tr>\n",
       "      <th>Categoria 12</th>\n",
       "      <td>504</td>\n",
       "    </tr>\n",
       "    <tr>\n",
       "      <th>Categoria 13</th>\n",
       "      <td>499</td>\n",
       "    </tr>\n",
       "    <tr>\n",
       "      <th>Categoria 14</th>\n",
       "      <td>349</td>\n",
       "    </tr>\n",
       "    <tr>\n",
       "      <th>Categoria 15</th>\n",
       "      <td>312</td>\n",
       "    </tr>\n",
       "  </tbody>\n",
       "</table>\n",
       "</div>"
      ],
      "text/plain": [
       "                   frequency\n",
       "reviews_per_month           \n",
       "Categoria 4             5771\n",
       "Categoria 1             4634\n",
       "Categoria 5             3052\n",
       "Categoria 2             2937\n",
       "Categoria 3             2309\n",
       "Categoria 7             1314\n",
       "Categoria 6             1310\n",
       "Categoria 8             1087\n",
       "Categoria 9              893\n",
       "Categoria 10             848\n",
       "Categoria 11             697\n",
       "Categoria 12             504\n",
       "Categoria 13             499\n",
       "Categoria 14             349\n",
       "Categoria 15             312"
      ]
     },
     "execution_count": 137,
     "metadata": {},
     "output_type": "execute_result"
    }
   ],
   "source": [
    "#ajusto indice de mi dataframe\n",
    "table_reviews_per_month= table_reviews_per_month.set_index(\"reviews_per_month\")\n",
    "table_reviews_per_month"
   ]
  },
  {
   "cell_type": "code",
   "execution_count": 138,
   "metadata": {},
   "outputs": [
    {
     "data": {
      "text/plain": [
       "Text(0, 0.5, 'Frecuencia')"
      ]
     },
     "execution_count": 138,
     "metadata": {},
     "output_type": "execute_result"
    },
    {
     "data": {
      "image/png": "[encoded data removed]",
      "text/plain": [
       "<Figure size 1000x400 with 1 Axes>"
      ]
     },
     "metadata": {},
     "output_type": "display_data"
    }
   ],
   "source": [
    "table_reviews_per_month.plot(kind=\"bar\", width=0.8, figsize=(10,4), color= \"blue\")\n",
    "plt.title(\"reviews_per_month\")\n",
    "plt.xlabel(\"Categorias\")\n",
    "plt.ylabel(\"Frecuencia\")"
   ]
  },
  {
   "cell_type": "markdown",
   "metadata": {},
   "source": [
    "review_scores_communication"
   ]
  },
  {
   "cell_type": "code",
   "execution_count": 139,
   "metadata": {},
   "outputs": [
    {
     "name": "stdout",
     "output_type": "stream",
     "text": [
      "<class 'pandas.core.series.Series'>\n",
      "RangeIndex: 26582 entries, 0 to 26581\n",
      "Series name: review_scores_communication\n",
      "Non-Null Count  Dtype  \n",
      "--------------  -----  \n",
      "26582 non-null  float64\n",
      "dtypes: float64(1)\n",
      "memory usage: 207.8 KB\n"
     ]
    }
   ],
   "source": [
    "Mexico[\"review_scores_communication\"].info()\n",
    "n=26582"
   ]
  },
  {
   "cell_type": "code",
   "execution_count": 140,
   "metadata": {},
   "outputs": [
    {
     "data": {
      "text/plain": [
       "[4.58, 5.0]"
      ]
     },
     "execution_count": 140,
     "metadata": {},
     "output_type": "execute_result"
    }
   ],
   "source": [
    "#Obtenemos limite superior e inferior\n",
    "Max_review_scores_communication = Mexico[\"review_scores_communication\"].max()\n",
    "Min_review_scores_communication = Mexico[\"review_scores_communication\"].min()\n",
    "Limites_review_scores_communication = [Min_review_scores_communication, Max_review_scores_communication]\n",
    "Limites_review_scores_communication"
   ]
  },
  {
   "cell_type": "code",
   "execution_count": 141,
   "metadata": {},
   "outputs": [
    {
     "data": {
      "text/plain": [
       "0.41999999999999993"
      ]
     },
     "execution_count": 141,
     "metadata": {},
     "output_type": "execute_result"
    }
   ],
   "source": [
    "# Calculamos el RANGO para \"reviews_per_month\"\n",
    "R_review_scores_communication = Max_review_scores_communication - Min_review_scores_communication\n",
    "R_review_scores_communication"
   ]
  },
  {
   "cell_type": "code",
   "execution_count": 142,
   "metadata": {},
   "outputs": [
    {
     "data": {
      "text/plain": [
       "15.689631010177528"
      ]
     },
     "execution_count": 142,
     "metadata": {},
     "output_type": "execute_result"
    }
   ],
   "source": [
    "ni_review_scores_communication=1+3.32*np.log10(n)\n",
    "ni_review_scores_communication"
   ]
  },
  {
   "cell_type": "code",
   "execution_count": 144,
   "metadata": {},
   "outputs": [
    {
     "data": {
      "text/plain": [
       "array([4.58 , 4.608, 4.636, 4.664, 4.692, 4.72 , 4.748, 4.776, 4.804,\n",
       "       4.832, 4.86 , 4.888, 4.916, 4.944, 4.972, 5.   ])"
      ]
     },
     "execution_count": 144,
     "metadata": {},
     "output_type": "execute_result"
    }
   ],
   "source": [
    "intervalos_review_scores_communication=np.linspace(Min_review_scores_communication, Max_review_scores_communication, 16)\n",
    "intervalos_review_scores_communication"
   ]
  },
  {
   "cell_type": "code",
   "execution_count": 145,
   "metadata": {},
   "outputs": [],
   "source": [
    "# Creamos las categorías para \"reviews_per_month\"\n",
    "categorias_review_scores_communication = [\"Categoria 1\", \"Categoria 2\", \"Categoria 3\", \n",
    "                                \"Categoria 4\", \"Categoria 5\", \"Categoria 6\", \n",
    "                                \"Categoria 7\", \"Categoria 8\", \"Categoria 9\",\n",
    "                                \"Categoria 10\", \"Categoria 11\", \"Categoria 12\",\n",
    "                                \"Categoria 13\", \"Categoria 14\", \"Categoria 15\"]"
   ]
  },
  {
   "cell_type": "code",
   "execution_count": 146,
   "metadata": {},
   "outputs": [
    {
     "data": {
      "text/plain": [
       "0        Categoria 12\n",
       "1         Categoria 8\n",
       "2        Categoria 13\n",
       "3        Categoria 15\n",
       "4         Categoria 6\n",
       "             ...     \n",
       "26577    Categoria 12\n",
       "26578    Categoria 12\n",
       "26579    Categoria 12\n",
       "26580    Categoria 12\n",
       "26581    Categoria 12\n",
       "Name: review_scores_communication, Length: 26582, dtype: category\n",
       "Categories (15, object): ['Categoria 1' < 'Categoria 2' < 'Categoria 3' < 'Categoria 4' ... 'Categoria 12' < 'Categoria 13' < 'Categoria 14' < 'Categoria 15']"
      ]
     },
     "execution_count": 146,
     "metadata": {},
     "output_type": "execute_result"
    }
   ],
   "source": [
    "#Finalmente creamos las categorias en la columna numerica\n",
    "Mexico[\"review_scores_communication\"]= pd.cut(x=Mexico[\"review_scores_communication\"], bins=intervalos_review_scores_communication, labels=categorias_review_scores_communication)\n",
    "Mexico[\"review_scores_communication\"]"
   ]
  },
  {
   "cell_type": "code",
   "execution_count": 152,
   "metadata": {},
   "outputs": [
    {
     "name": "stderr",
     "output_type": "stream",
     "text": [
      "/Library/Frameworks/Python.framework/Versions/3.13/lib/python3.13/site-packages/seaborn/categorical.py:641: FutureWarning: The default of observed=False is deprecated and will be changed to True in a future version of pandas. Pass observed=False to retain current behavior or observed=True to adopt the future default and silence this warning.\n",
      "  grouped_vals = vals.groupby(grouper)\n"
     ]
    },
    {
     "data": {
      "image/png": "[encoded data removed]",
      "text/plain": [
       "<Figure size 1000x500 with 1 Axes>"
      ]
     },
     "metadata": {},
     "output_type": "display_data"
    }
   ],
   "source": [
    "review_scores_communication = Mexico['review_scores_communication'].value_counts().sort_index()\n",
    "\n",
    "# Crear el histograma (gráfico de barras)\n",
    "plt.figure(figsize=(10, 5))\n",
    "sns.barplot(x=review_scores_communication.index, y=review_scores_communication.values, palette=\"viridis\")\n",
    "\n",
    "# Personalizar el gráfico\n",
    "plt.xlabel('review_scores_communication')\n",
    "plt.ylabel('Frecuencia')\n",
    "plt.title('Distribución de Noches Máximas por Categoría')\n",
    "plt.xticks(rotation=45)  # Girar etiquetas para mejor visibilidad\n",
    "plt.show()"
   ]
  },
  {
   "cell_type": "markdown",
   "metadata": {},
   "source": [
    "review_scores_checkin"
   ]
  },
  {
   "cell_type": "code",
   "execution_count": 170,
   "metadata": {},
   "outputs": [
    {
     "name": "stdout",
     "output_type": "stream",
     "text": [
      "<class 'pandas.core.series.Series'>\n",
      "RangeIndex: 26582 entries, 0 to 26581\n",
      "Series name: review_scores_checkin\n",
      "Non-Null Count  Dtype  \n",
      "--------------  -----  \n",
      "26582 non-null  float64\n",
      "dtypes: float64(1)\n",
      "memory usage: 207.8 KB\n"
     ]
    }
   ],
   "source": [
    "\n",
    "Mexico[\"review_scores_checkin\"].info()\n",
    "n=26582\n"
   ]
  },
  {
   "cell_type": "code",
   "execution_count": 171,
   "metadata": {},
   "outputs": [
    {
     "data": {
      "text/plain": [
       "[4.6, 5.0]"
      ]
     },
     "execution_count": 171,
     "metadata": {},
     "output_type": "execute_result"
    }
   ],
   "source": [
    "Max_review_scores_checkin=Mexico['review_scores_checkin'].max()\n",
    "Min_review_scores_checkin=Mexico['review_scores_checkin'].min()\n",
    "review_scores_checkin=[Min_review_scores_checkin, Max_review_scores_checkin]\n",
    "review_scores_checkin"
   ]
  },
  {
   "cell_type": "code",
   "execution_count": 172,
   "metadata": {},
   "outputs": [
    {
     "data": {
      "text/plain": [
       "0.40000000000000036"
      ]
     },
     "execution_count": 172,
     "metadata": {},
     "output_type": "execute_result"
    }
   ],
   "source": [
    "R_review_scores_checkin=Max_review_scores_checkin-Min_review_scores_checkin\n",
    "R_review_scores_checkin"
   ]
  },
  {
   "cell_type": "code",
   "execution_count": 173,
   "metadata": {},
   "outputs": [
    {
     "data": {
      "text/plain": [
       "15.689631010177528"
      ]
     },
     "execution_count": 173,
     "metadata": {},
     "output_type": "execute_result"
    }
   ],
   "source": [
    "ni_review_scores_checkin=1+3.32*np.log10(n)\n",
    "ni_review_scores_checkin"
   ]
  },
  {
   "cell_type": "code",
   "execution_count": 174,
   "metadata": {},
   "outputs": [
    {
     "data": {
      "text/plain": [
       "array([4.6       , 4.62666667, 4.65333333, 4.68      , 4.70666667,\n",
       "       4.73333333, 4.76      , 4.78666667, 4.81333333, 4.84      ,\n",
       "       4.86666667, 4.89333333, 4.92      , 4.94666667, 4.97333333,\n",
       "       5.        ])"
      ]
     },
     "execution_count": 174,
     "metadata": {},
     "output_type": "execute_result"
    }
   ],
   "source": [
    "intervalos_review_scores_checkin=np.linspace(Min_review_scores_checkin, Max_review_scores_checkin, 16)\n",
    "intervalos_review_scores_checkin"
   ]
  },
  {
   "cell_type": "code",
   "execution_count": 175,
   "metadata": {},
   "outputs": [],
   "source": [
    "categorias_review_scores_checkin = [\"Categoria 1\", \"Categoria 2\", \"Categoria 3\", \n",
    "                                \"Categoria 4\", \"Categoria 5\", \"Categoria 6\", \n",
    "                                \"Categoria 7\", \"Categoria 8\", \"Categoria 9\",\n",
    "                                \"Categoria 10\", \"Categoria 11\", \"Categoria 12\",\n",
    "                                \"Categoria 13\", \"Categoria 14\", \"Categoria 15\"]"
   ]
  },
  {
   "cell_type": "code",
   "execution_count": 176,
   "metadata": {},
   "outputs": [
    {
     "data": {
      "text/plain": [
       "0        Categoria 12\n",
       "1        Categoria 11\n",
       "2        Categoria 13\n",
       "3        Categoria 14\n",
       "4        Categoria 15\n",
       "             ...     \n",
       "26577    Categoria 12\n",
       "26578    Categoria 12\n",
       "26579    Categoria 12\n",
       "26580    Categoria 12\n",
       "26581    Categoria 12\n",
       "Name: review_scores_checkin, Length: 26582, dtype: category\n",
       "Categories (15, object): ['Categoria 1' < 'Categoria 2' < 'Categoria 3' < 'Categoria 4' ... 'Categoria 12' < 'Categoria 13' < 'Categoria 14' < 'Categoria 15']"
      ]
     },
     "execution_count": 176,
     "metadata": {},
     "output_type": "execute_result"
    }
   ],
   "source": [
    "Mexico['review_scores_checkin']=pd.cut(Mexico['review_scores_checkin'],bins=intervalos_review_scores_checkin,labels=categorias_review_scores_checkin)\n",
    "Mexico['review_scores_checkin']"
   ]
  },
  {
   "cell_type": "code",
   "execution_count": 180,
   "metadata": {},
   "outputs": [
    {
     "name": "stderr",
     "output_type": "stream",
     "text": [
      "/Library/Frameworks/Python.framework/Versions/3.13/lib/python3.13/site-packages/seaborn/categorical.py:641: FutureWarning: The default of observed=False is deprecated and will be changed to True in a future version of pandas. Pass observed=False to retain current behavior or observed=True to adopt the future default and silence this warning.\n",
      "  grouped_vals = vals.groupby(grouper)\n"
     ]
    },
    {
     "data": {
      "image/png": "[encoded data removed]",
      "text/plain": [
       "<Figure size 1500x500 with 1 Axes>"
      ]
     },
     "metadata": {},
     "output_type": "display_data"
    }
   ],
   "source": [
    "review_scores_checkin = Mexico['review_scores_checkin'].value_counts().sort_index()\n",
    "\n",
    "# Crear el gráfico de barras\n",
    "plt.figure(figsize=(15, 5))\n",
    "sns.barplot(x=review_scores_checkin.index, y=review_scores_checkin.values, palette=\"tab20\")\n",
    "\n",
    "# Personalizar el gráfico\n",
    "plt.xlabel('review_scores_checkin')\n",
    "plt.ylabel('Frecuencia')\n",
    "plt.title('review_scores_checkin')\n",
    "plt.show()"
   ]
  },
  {
   "cell_type": "markdown",
   "metadata": {},
   "source": [
    "review_scores_cleanliness"
   ]
  },
  {
   "cell_type": "code",
   "execution_count": 208,
   "metadata": {},
   "outputs": [
    {
     "name": "stdout",
     "output_type": "stream",
     "text": [
      "<class 'pandas.core.series.Series'>\n",
      "RangeIndex: 26582 entries, 0 to 26581\n",
      "Series name: review_scores_cleanliness\n",
      "Non-Null Count  Dtype  \n",
      "--------------  -----  \n",
      "26582 non-null  float64\n",
      "dtypes: float64(1)\n",
      "memory usage: 207.8 KB\n"
     ]
    }
   ],
   "source": [
    "\n",
    "\n",
    "Mexico[\"review_scores_cleanliness\"].info()\n",
    "n=26582"
   ]
  },
  {
   "cell_type": "code",
   "execution_count": 209,
   "metadata": {},
   "outputs": [
    {
     "data": {
      "text/plain": [
       "[4.43, 5.0]"
      ]
     },
     "execution_count": 209,
     "metadata": {},
     "output_type": "execute_result"
    }
   ],
   "source": [
    "Max_review_scores_cleanliness=Mexico['review_scores_cleanliness'].max()\n",
    "Min_review_scores_cleanliness=Mexico['review_scores_cleanliness'].min()\n",
    "review_scores_cleanliness=[Min_review_scores_cleanliness, Max_review_scores_cleanliness]\n",
    "review_scores_cleanliness"
   ]
  },
  {
   "cell_type": "code",
   "execution_count": 210,
   "metadata": {},
   "outputs": [
    {
     "data": {
      "text/plain": [
       "0.5700000000000003"
      ]
     },
     "execution_count": 210,
     "metadata": {},
     "output_type": "execute_result"
    }
   ],
   "source": [
    "R_review_scores_cleanliness=Max_review_scores_cleanliness-Min_review_scores_cleanliness\n",
    "R_review_scores_cleanliness"
   ]
  },
  {
   "cell_type": "code",
   "execution_count": 211,
   "metadata": {},
   "outputs": [
    {
     "data": {
      "text/plain": [
       "15.689631010177528"
      ]
     },
     "execution_count": 211,
     "metadata": {},
     "output_type": "execute_result"
    }
   ],
   "source": [
    "ni_review_scores_cleanliness=1+3.32*np.log10(n)\n",
    "ni_review_scores_cleanliness"
   ]
  },
  {
   "cell_type": "code",
   "execution_count": 213,
   "metadata": {},
   "outputs": [
    {
     "data": {
      "text/plain": [
       "array([4.43 , 4.468, 4.506, 4.544, 4.582, 4.62 , 4.658, 4.696, 4.734,\n",
       "       4.772, 4.81 , 4.848, 4.886, 4.924, 4.962, 5.   ])"
      ]
     },
     "execution_count": 213,
     "metadata": {},
     "output_type": "execute_result"
    }
   ],
   "source": [
    "intervalos_review_scores_cleanliness=np.linspace(Min_review_scores_cleanliness, Max_review_scores_cleanliness, 16)\n",
    "intervalos_review_scores_cleanliness"
   ]
  },
  {
   "cell_type": "code",
   "execution_count": 214,
   "metadata": {},
   "outputs": [],
   "source": [
    "categorias_review_scores_cleanliness = [\"Categoria 1\", \"Categoria 2\", \"Categoria 3\", \n",
    "                                \"Categoria 4\", \"Categoria 5\", \"Categoria 6\", \n",
    "                                \"Categoria 7\", \"Categoria 8\", \"Categoria 9\",\n",
    "                                \"Categoria 10\", \"Categoria 11\", \"Categoria 12\",\n",
    "                                \"Categoria 13\", \"Categoria 14\", \"Categoria 15\"]"
   ]
  },
  {
   "cell_type": "code",
   "execution_count": 215,
   "metadata": {},
   "outputs": [
    {
     "data": {
      "text/plain": [
       "0        Categoria 10\n",
       "1         Categoria 8\n",
       "2         Categoria 9\n",
       "3        Categoria 14\n",
       "4        Categoria 15\n",
       "             ...     \n",
       "26577    Categoria 10\n",
       "26578    Categoria 10\n",
       "26579    Categoria 10\n",
       "26580    Categoria 10\n",
       "26581    Categoria 10\n",
       "Name: review_scores_cleanliness, Length: 26582, dtype: category\n",
       "Categories (15, object): ['Categoria 1' < 'Categoria 2' < 'Categoria 3' < 'Categoria 4' ... 'Categoria 12' < 'Categoria 13' < 'Categoria 14' < 'Categoria 15']"
      ]
     },
     "execution_count": 215,
     "metadata": {},
     "output_type": "execute_result"
    }
   ],
   "source": [
    "Mexico['review_scores_cleanliness']=pd.cut(Mexico['review_scores_cleanliness'],bins=intervalos_review_scores_cleanliness,labels=categorias_review_scores_cleanliness)\n",
    "Mexico['review_scores_cleanliness']"
   ]
  },
  {
   "cell_type": "code",
   "execution_count": 218,
   "metadata": {},
   "outputs": [
    {
     "name": "stderr",
     "output_type": "stream",
     "text": [
      "/Library/Frameworks/Python.framework/Versions/3.13/lib/python3.13/site-packages/seaborn/categorical.py:641: FutureWarning: The default of observed=False is deprecated and will be changed to True in a future version of pandas. Pass observed=False to retain current behavior or observed=True to adopt the future default and silence this warning.\n",
      "  grouped_vals = vals.groupby(grouper)\n"
     ]
    },
    {
     "data": {
      "image/png": "[encoded data removed]",
      "text/plain": [
       "<Figure size 1000x500 with 1 Axes>"
      ]
     },
     "metadata": {},
     "output_type": "display_data"
    }
   ],
   "source": [
    "conteo_cleanliness = Mexico['review_scores_cleanliness'].value_counts().sort_index()\n",
    "\n",
    "# Crear el gráfico de barras\n",
    "plt.figure(figsize=(10, 5))\n",
    "sns.barplot(x=conteo_cleanliness.index, y=conteo_cleanliness.values, palette=\"flare\")\n",
    "\n",
    "# Personalizar el gráfico\n",
    "plt.xlabel('review_scores_cleanliness')\n",
    "plt.ylabel('Frecuencia')\n",
    "plt.title('Categorias')\n",
    "plt.show()"
   ]
  },
  {
   "cell_type": "markdown",
   "metadata": {},
   "source": [
    "review_scores_accuracy"
   ]
  },
  {
   "cell_type": "code",
   "execution_count": 219,
   "metadata": {},
   "outputs": [
    {
     "name": "stdout",
     "output_type": "stream",
     "text": [
      "<class 'pandas.core.series.Series'>\n",
      "RangeIndex: 26582 entries, 0 to 26581\n",
      "Series name: review_scores_accuracy\n",
      "Non-Null Count  Dtype  \n",
      "--------------  -----  \n",
      "26582 non-null  float64\n",
      "dtypes: float64(1)\n",
      "memory usage: 207.8 KB\n"
     ]
    }
   ],
   "source": [
    "Mexico[\"review_scores_accuracy\"].info()\n",
    "n=26582"
   ]
  },
  {
   "cell_type": "code",
   "execution_count": 220,
   "metadata": {},
   "outputs": [
    {
     "data": {
      "text/plain": [
       "[4.52, 5.0]"
      ]
     },
     "execution_count": 220,
     "metadata": {},
     "output_type": "execute_result"
    }
   ],
   "source": [
    "Max_review_scores_accuracy=Mexico['review_scores_accuracy'].max()\n",
    "Min_review_scores_accuracy=Mexico['review_scores_accuracy'].min()\n",
    "review_scores_accuracy=[Min_review_scores_accuracy, Max_review_scores_accuracy]\n",
    "review_scores_accuracy"
   ]
  },
  {
   "cell_type": "code",
   "execution_count": 221,
   "metadata": {},
   "outputs": [
    {
     "data": {
      "text/plain": [
       "0.4800000000000004"
      ]
     },
     "execution_count": 221,
     "metadata": {},
     "output_type": "execute_result"
    }
   ],
   "source": [
    "R_review_scores_accuracy = Max_review_scores_accuracy - Min_review_scores_accuracy\n",
    "R_review_scores_accuracy"
   ]
  },
  {
   "cell_type": "code",
   "execution_count": 222,
   "metadata": {},
   "outputs": [
    {
     "data": {
      "text/plain": [
       "15.689631010177528"
      ]
     },
     "execution_count": 222,
     "metadata": {},
     "output_type": "execute_result"
    }
   ],
   "source": [
    "ni_review_scores_accuracy=1+3.32*np.log10(n)\n",
    "ni_review_scores_accuracy"
   ]
  },
  {
   "cell_type": "code",
   "execution_count": 224,
   "metadata": {},
   "outputs": [
    {
     "data": {
      "text/plain": [
       "array([4.52 , 4.552, 4.584, 4.616, 4.648, 4.68 , 4.712, 4.744, 4.776,\n",
       "       4.808, 4.84 , 4.872, 4.904, 4.936, 4.968, 5.   ])"
      ]
     },
     "execution_count": 224,
     "metadata": {},
     "output_type": "execute_result"
    }
   ],
   "source": [
    "intervalos_review_scores_accuracy=np.linspace(Min_review_scores_accuracy, Max_review_scores_accuracy, 16)\n",
    "intervalos_review_scores_accuracy"
   ]
  },
  {
   "cell_type": "code",
   "execution_count": 225,
   "metadata": {},
   "outputs": [],
   "source": [
    "categorias_review_scores_accuracy = [\"Categoria 1\", \"Categoria 2\", \"Categoria 3\", \n",
    "                                \"Categoria 4\", \"Categoria 5\", \"Categoria 6\", \n",
    "                                \"Categoria 7\", \"Categoria 8\", \"Categoria 9\",\n",
    "                                \"Categoria 10\", \"Categoria 11\", \"Categoria 12\",\n",
    "                                \"Categoria 13\", \"Categoria 14\", \"Categoria 15\"]"
   ]
  },
  {
   "cell_type": "code",
   "execution_count": 226,
   "metadata": {},
   "outputs": [
    {
     "data": {
      "text/plain": [
       "0        Categoria 12\n",
       "1         Categoria 2\n",
       "2        Categoria 10\n",
       "3        Categoria 12\n",
       "4        Categoria 15\n",
       "             ...     \n",
       "26577    Categoria 12\n",
       "26578    Categoria 12\n",
       "26579    Categoria 12\n",
       "26580    Categoria 12\n",
       "26581    Categoria 12\n",
       "Name: review_scores_accuracy, Length: 26582, dtype: category\n",
       "Categories (15, object): ['Categoria 1' < 'Categoria 2' < 'Categoria 3' < 'Categoria 4' ... 'Categoria 12' < 'Categoria 13' < 'Categoria 14' < 'Categoria 15']"
      ]
     },
     "execution_count": 226,
     "metadata": {},
     "output_type": "execute_result"
    }
   ],
   "source": [
    "Mexico['review_scores_accuracy']=pd.cut(Mexico['review_scores_accuracy'],bins=intervalos_review_scores_accuracy,labels=categorias_review_scores_accuracy)\n",
    "Mexico['review_scores_accuracy']"
   ]
  },
  {
   "cell_type": "code",
   "execution_count": 228,
   "metadata": {},
   "outputs": [
    {
     "name": "stderr",
     "output_type": "stream",
     "text": [
      "/Library/Frameworks/Python.framework/Versions/3.13/lib/python3.13/site-packages/seaborn/categorical.py:641: FutureWarning: The default of observed=False is deprecated and will be changed to True in a future version of pandas. Pass observed=False to retain current behavior or observed=True to adopt the future default and silence this warning.\n",
      "  grouped_vals = vals.groupby(grouper)\n"
     ]
    },
    {
     "data": {
      "image/png": "[encoded data removed]",
      "text/plain": [
       "<Figure size 1000x500 with 1 Axes>"
      ]
     },
     "metadata": {},
     "output_type": "display_data"
    }
   ],
   "source": [
    "conteo_accuracy = Mexico['review_scores_accuracy'].value_counts().sort_index()\n",
    "\n",
    "# Crear el gráfico de barras\n",
    "plt.figure(figsize=(10, 5))\n",
    "sns.barplot(x=conteo_accuracy.index, y=conteo_accuracy.values, palette=\"spring\")\n",
    "\n",
    "# Personalizar el gráfico\n",
    "plt.xlabel('Categoría de Puntuación de Ubicación')\n",
    "plt.ylabel('Frecuencia')\n",
    "plt.title('Distribución de Puntuaciones de Ubicación')\n",
    "plt.show()"
   ]
  },
  {
   "cell_type": "code",
   "execution_count": null,
   "metadata": {},
   "outputs": [],
   "source": []
  },
  {
   "cell_type": "code",
   "execution_count": null,
   "metadata": {},
   "outputs": [],
   "source": []
  },
  {
   "cell_type": "code",
   "execution_count": null,
   "metadata": {},
   "outputs": [],
   "source": []
  },
  {
   "cell_type": "code",
   "execution_count": null,
   "metadata": {},
   "outputs": [],
   "source": []
  },
  {
   "cell_type": "code",
   "execution_count": null,
   "metadata": {},
   "outputs": [],
   "source": []
  }
 ],
 "metadata": {
  "kernelspec": {
   "display_name": "Python 3",
   "language": "python",
   "name": "python3"
  },
  "language_info": {
   "codemirror_mode": {
    "name": "ipython",
    "version": 3
   },
   "file_extension": ".py",
   "mimetype": "text/x-python",
   "name": "python",
   "nbconvert_exporter": "python",
   "pygments_lexer": "ipython3",
   "version": "3.13.1"
  }
 },
 "nbformat": 4,
 "nbformat_minor": 2
}
